{
  "nbformat": 4,
  "nbformat_minor": 0,
  "metadata": {
    "colab": {
      "provenance": []
    },
    "kernelspec": {
      "name": "python3",
      "display_name": "Python 3"
    },
    "language_info": {
      "name": "python"
    }
  },
  "cells": [
    {
      "cell_type": "markdown",
      "source": [
        "**Data Types and Structures Questions:**"
      ],
      "metadata": {
        "id": "hhsZipWNO-cm"
      }
    },
    {
      "cell_type": "markdown",
      "source": [
        "1. What are data structures, and why are they important?\n",
        "Data Structures:\n",
        "- Data structures are specialized formats for organizing, storing, and accessing cllection of data.\n",
        "- They provide efficient ways to manage information based on its characteristics and intedented uses.\n",
        "\n",
        "Importance of Data Strucuters:\n",
        "- Choosing the right data structure significantly impacts the efficiency and performance of your program.\n",
        "- Well chosen data structure can simplify data manipulation (adding, removing, modifying elements), optimize searching and sorting operations and conserve memory usage."
      ],
      "metadata": {
        "id": "IaWtfOr-99Ak"
      }
    },
    {
      "cell_type": "markdown",
      "source": [
        "2. Explain the difference between mutable and immutable data types with examples?\n",
        "- In python, mutable and immutable refer to whether an object's state can be changed after it's created.\n",
        "\n",
        "**Mutable Data type:**\n",
        "- Mutable objects can be modified after creation.\n",
        "Eg. List, Dictionary and Set are mutable data types.\n",
        "    list1 = [1, 2, 3]\n",
        "    list1.append(4)\n",
        "    print(list1)\n",
        "Output: [1, 2, 3, 4]\n",
        "When original '**list1**' was created, there were only three elements in it. After that we added one more element to the list1. Hence we can say that List is mutable data type.\n",
        "\n",
        "**Immutable Data type:**\n",
        "- Immutable objects can not be modified after creation.\n",
        "Eg. Tuple and String.\n",
        "    tup = (1, 2, 3)\n",
        "    tup.append(5)\n",
        "    print(tup)\n",
        "Output: AttributeError                            Traceback (most recent call last)\n",
        "/tmp/ipython-input-1-3422945106.py in <cell line: 0>()\n",
        "      1 tup = (1, 2, 3)\n",
        "      2\n",
        "----> 3 tup.append(5)\n",
        "      4\n",
        "      5 print(tup)\n",
        "\n",
        "AttributeError: 'tuple' object has no attribute 'append'\n",
        "\n",
        "Tuple is immutable data type, hence we can't add, remove or change the tuple once it is created.\n",
        "    "
      ],
      "metadata": {
        "id": "p6CzpsD__zfL"
      }
    },
    {
      "cell_type": "markdown",
      "source": [
        "3. What are the main differences between lists and tuples in Python?\n",
        "- List elements are stored within square brackets \"[]\", while Tuple elements are stored within Parenthesis \"()\".\n",
        "- List is mutable data type and Tuple is immutable data type.\n",
        "- List data type can be used for dynamic data and Tuple can be used for fixed data."
      ],
      "metadata": {
        "id": "7vvkJzrGDNLf"
      }
    },
    {
      "cell_type": "markdown",
      "source": [
        "4. Describe how dictionaries store data.\n",
        "- Dictionaries in Python store data s key-value pairs.\n",
        "Eg. dict_0 = {\"f_name\" : \"Sachin\", \"l_name\" : \"Tendulkar\"}\n",
        "- In above example 'f_name' and 'l_name' are keys and 'Sachin' and 'Tendulkar' are values associated with those keys respectively."
      ],
      "metadata": {
        "id": "GE2yuq9WEea_"
      }
    },
    {
      "cell_type": "markdown",
      "source": [
        "5. Why might you use a set instead of a list in Python?\n",
        "- List can store duplicate values as well and output will also give the duplicate values, therefore we can use Set instead of List when we want unique values only in the output.\n",
        "- Set is the most suitable data type when we want inputs from the multiple users and required output is of unique values only."
      ],
      "metadata": {
        "id": "drgjSEirFdkw"
      }
    },
    {
      "cell_type": "markdown",
      "source": [
        "6. What is a string in Python, and how is it different from a list?\n",
        "- In Python, a string is a sequence of characters used to represent text. A string is enclosed in quotes (' ' or \" \").\n",
        "Eg. str1 = \"Hello World!.\"\n",
        "\n",
        "- String is enclosed in quotes while List elements are stored within square brackets.\n",
        "- String is immutable whereas List is mutable.\n",
        "- String can store only characters while list can store mix data types (int, float, str, bool, complext)."
      ],
      "metadata": {
        "id": "SO0fKR13GV2Q"
      }
    },
    {
      "cell_type": "markdown",
      "source": [
        "7. How do tuples ensure data integrity in Python?\n",
        "- Tuples ensure data integrity in python primarily through their immutability. Once a tuple is created, it's elements cannot be changed, added, or removed.\n",
        "- This immutability guarantees that the data within the tuple remains unchanged throughout it's lifetime unless a new tuple is created."
      ],
      "metadata": {
        "id": "e_ft5zALH4Nx"
      }
    },
    {
      "cell_type": "markdown",
      "source": [
        "8. What is a hash table, and how does it relate to dictionaries in Python?\n",
        "- A hash table is a data structure that stores key-value pairs and allows for fast access to values based on their keys.\n",
        "- It works by using a hash function to compute an index (a hash code) into an array of buckets or slots, from which the desired value can be found.\n",
        "- Hash Function: Converts a key into a fixed-size integer (the hash code).\n",
        "- Buckets: A hash table uses an array to store data; the hash code determines where to store or retrieve the value.\n",
        "- Collisions: When two keys hash to the same index, it's called a collision. Hash tables use strategies like chaining (storing multiple items at the same index using a list) or open addressing (finding another open slot) to handle collisions."
      ],
      "metadata": {
        "id": "_Zf1B-HpJs77"
      }
    },
    {
      "cell_type": "markdown",
      "source": [
        "9. Can lists contain different data types in Python?\n",
        "- Yes, Lists can contain different data types.\n",
        "- Python lists are heterogeneous, meaning they can store elements of any type, including: Integers, Floats, Strings, Booleans, Other lists (nested lists), Tuples, dictionaries, sets."
      ],
      "metadata": {
        "id": "-Ta7CBqsKdzF"
      }
    },
    {
      "cell_type": "markdown",
      "source": [
        "10. Explain why strings are immutable in Python?\n",
        "- Strings are immutable in Python, meaning once a string is created, it cannot be changed. you cannot modify, add, or remove characters from it.\n",
        "- Strings are heavily used in Python (e.g., keys in dictionaries, labels, file paths).\n",
        "- Immutability allows strings to be interned (shared in memory), which saves space and speeds up comparisons:\n",
        "  a = \"hello\"\n",
        "  b = \"hello\"\n",
        "  print(a is b)  # True (same object in memory)\n",
        "\n",
        "- Immutability allows strings to be hashable, meaning their hash value won’t change. This is crucial because strings can be used as dictionary keys or stored in sets, both of which rely on consistent hash values."
      ],
      "metadata": {
        "id": "1B8PsbpDLIyI"
      }
    },
    {
      "cell_type": "markdown",
      "source": [
        "11. What advantages do dictionaries offer over lists for certain tasks?\n",
        "- Dictionaries offer significant advantages over lists for certain tasks, primarily due to their key-value pair structure and hash-based implementation.\n",
        "- Dictionaries: Dictionaries provide near-instantaneous lookups for values based on their keys. This is because they use a hash function to directly calculate the memory address of the value, making it extremely efficient to retrieve a specific item.\n",
        "- Lists: To find an item in a list, you have to iterate through the list from the beginning until you find the item you're looking for. In the worst-case scenario, this takes linear time, where 'n' is the number of elements in the list. This becomes very slow for large lists.\n",
        "- Dictionaries: Keys in a dictionary must be unique. This inherent property is useful for tasks where you need to ensure that each item has a distinct identifier, preventing duplicate entries. If you try to add an item with an existing key, the old value will be overwritten.\n",
        "- Lists: Lists allow for duplicate items. You can have multiple instances of the same value in a list, which is useful in some scenarios but not when you need to enforce uniqueness.\n"
      ],
      "metadata": {
        "id": "iypNse2SMUzO"
      }
    },
    {
      "cell_type": "markdown",
      "source": [
        "12. Describe a scenario where using a tuple would be preferable over a list.\n",
        "- Scenario: Representing a Date (Year, Month, Day).\n",
        "- Immutability: A date is a fixed point in time. The year, month, and day of \"July 24, 2025\" are not going to change. You wouldn't want to accidentally change the month from 7 to 8 for that specific date. A tuple ensures this immutability.\n",
        "- eg. today = (2025, 7, 24)\n",
        "# today[1] = 8 # This would cause an error (TypeError: 'tuple' object does\n",
        "- Fixed Structure: A date always has three components: year, month, and day. A tuple inherently suggests this fixed number of elements.\n",
        "- Readability: (2025, 7, 24) clearly represents a date. If you used a list like [2025, 7, 24], it might look the same, but the intent of it being an unchangeable, single unit is less clear.\n",
        "- Why a List is Less Suitable:\n",
        "- Mutability Risk: If you used today_list = [2025, 7, 24], someone could accidentally do today_list[1] = 8, silently changing the month of your \"fixed\" date without warning. This could lead to hard-to-find bugs later.\n",
        "- If the collection of items is meant to be a permanent, unchangeable \"record\" or \"set of facts,\" then a tuple is the better choice. If the collection is dynamic and you expect to add, remove, or modify elements frequently, then a list is the way to go."
      ],
      "metadata": {
        "id": "WuZRzqYaNtpf"
      }
    },
    {
      "cell_type": "markdown",
      "source": [
        "13. How do sets handle duplicate values in Python?\n",
        "- In Python, sets automatically eliminate duplicate values. A set is an unordered collection of unique elements—it cannot contain duplicates by design.\n",
        "- If you try to add a value that’s already in the set, Python ignores it—the set remains unchanged.\n",
        "- Sets use a hash table under the hood (like dictionaries), When a value is added, Python checks its hash to see if it’s already present. If the value is already in the set, it’s not added again."
      ],
      "metadata": {
        "id": "VxsB4VDLPku2"
      }
    },
    {
      "cell_type": "markdown",
      "source": [
        "14. How does the “in” keyword work differently for lists and dictionaries?\n",
        "- The in keyword in Python is used to check for membership, but it behaves differently for lists and dictionaries based on what it's checking.\n",
        "- in with Lists: Checks whether a value exists as an element in the list.\n",
        "- Eg. fruits = [\"apple\", \"banana\", \"cherry\"]\n",
        "      print(\"banana\" in fruits) #True\n",
        "      print(\"grape\" in fruits) #False\n",
        "- Searches through the list elements one by one.\n",
        "\n",
        "- in with Dictionaries: Checks whether a key exists in the dictionary, not the value.\n",
        "- Eg. person = {\"name\": \"Alice\", \"age\": 30}\n",
        "      print(\"name\" in person) #True (key exists)\n",
        "      print(\"Alice\" in person) #False (value, not key)\n",
        "\n",
        "- To check if a value is in the dictionary, you need to use:\n",
        "      \"Alice\" in person.values() #True\n",
        "\n",
        "- Only keys are checked by default when using in."
      ],
      "metadata": {
        "id": "2OR3RW3hQN9P"
      }
    },
    {
      "cell_type": "markdown",
      "source": [
        "15. Can you modify the elements of a tuple? Explain why or why not.\n",
        "- No, you cannot modify the elements of a tuple in Python, because tuples are immutable. This means that once a tuple is created, its contents (elements) cannot be changed, added to, or removed.\n",
        "- Design Choice for Safety: Tuples are meant to represent fixed collections of items—like coordinates, dates, or database records—where modification should not be allowed.\n",
        "- Hashability: Tuples can be used as keys in dictionaries or stored in sets, but only because they are immutable. If they could change, their hash value would change too, breaking data structures that rely on stable hashing.\n",
        "- Data Integrity: Immutability protects the data from accidental changes, which is useful in large programs where values may be passed to many places."
      ],
      "metadata": {
        "id": "Fqct-9KTRsRP"
      }
    },
    {
      "cell_type": "markdown",
      "source": [
        "16. What is a nested dictionary, and give an example of its use case?\n",
        "- A nested dictionary in Python is a dictionary inside another dictionary. It allows you to store complex, hierarchical data structures—much like a table with rows and columns, or a JSON object.\n",
        "- Use Case Example: Student Records System\n",
        "- Suppose you're managing data for multiple students. Each student has a name, age, and marks:\n",
        "- students = {\n",
        "    \"Alice\": {\n",
        "        \"age\": 20,\n",
        "        \"marks\": {\"math\": 90, \"science\": 85}\n",
        "    },\n",
        "    \"Bob\": {\n",
        "        \"age\": 22,\n",
        "        \"marks\": {\"math\": 75, \"science\": 80}\n",
        "    }\n",
        "}\n",
        "\n",
        "- Use case: To group related information together, To avoid creating multiple separate variables or flat structures that are hard to manage.\n"
      ],
      "metadata": {
        "id": "QzDQf-TPU9zf"
      }
    },
    {
      "cell_type": "markdown",
      "source": [
        "17. Describe the time complexity of accessing elements in a dictionary.\n",
        "- Accessing elements in a dictionary in Python typically has an average time complexity of 𝑂 (1). This means that regardless of the size of the dictionary, the time it takes to retrieve a value associated with a key is constant on average.\n",
        "- However, in the worst-case scenario, due to hash collisions or other factors, accessing elements could degrade to O(n), where n is the number of elements in the dictionary.\n",
        "- But under normal circumstances, Python's dictionary implementation ensures that accessing elements remains O(1) on average, making it very efficient for tasks like lookup operations."
      ],
      "metadata": {
        "id": "5wtserhfWD1P"
      }
    },
    {
      "cell_type": "markdown",
      "source": [
        "18. In what situations are lists preferred over dictionaries?\n",
        "- Order Matters: When the order of elements is important (e.g., ordered sequences, time-series data). Lists maintain the insertion order and allow easy indexing by position.\n",
        "- Simple Collections: When you just need to store a collection of items (like numbers or strings) without needing a key-value structure. Lists are simpler and more memory-efficient for such tasks.\n",
        "- Index-Based Access: When you want to access elements by their position (e.g., the 3rd item). Lists allow access by integer index using list[index].\n",
        "- Ordered Iteration: When you need to process items in a specific order (e.g., from first to last). Lists guarantee iteration in the same order as items were added.\n",
        "- Duplicates are Needed: When the same value may appear more than once and you want to retain all instances. Lists allow duplicate values, unlike sets or dictionaries (which must have unique keys).\n",
        "- Simplicity and Less Overhead: When the data structure doesn’t require fast lookups via custom keys. Lists are less complex and typically use less memory than dictionaries."
      ],
      "metadata": {
        "id": "vuGPZs3hLoaN"
      }
    },
    {
      "cell_type": "markdown",
      "source": [
        "19. Why are dictionaries considered unordered, and how does that affect data retrieval?\n",
        "- Starting from Python 3.7, dictionaries preserve insertion order as an official language feature. However dictionaries still described as \"unordered\" sometimes.\n",
        "- Even though Python now preserves order, dictionaries are still: Accessed by key, not position (e.g., you can't do dict[0]). Conceptually unordered in many programming contexts, where order is not the primary concern—key-based lookup is. Key-based lookup is unaffected: You can always retrieve values by key, regardless of insertion order.\n",
        "- If your logic depends on the order you inserted items, it will now behave consistently."
      ],
      "metadata": {
        "id": "PNhXnL3gM1o0"
      }
    },
    {
      "cell_type": "markdown",
      "source": [
        "20. Explain the difference between a list and a dictionary in terms of data retrieval.\n",
        "- The main difference between a list and a dictionary in Python, especially in terms of data retrieval, lies in how elements are accessed: In List elements are accessed by index and in Dictionary elements are accessed by Key.\n",
        "- Time complexity is List is O(1) for index, but O(n) to find a value, however O(1) average time to get value by key."
      ],
      "metadata": {
        "id": "6sNiIUlqOIY1"
      }
    },
    {
      "cell_type": "markdown",
      "source": [
        "**Practical Questions:**"
      ],
      "metadata": {
        "id": "zuQg74y6O9Ir"
      }
    },
    {
      "cell_type": "markdown",
      "source": [
        "1. Write a code to create a string with your name and print it."
      ],
      "metadata": {
        "id": "M2kMAvOaPIkU"
      }
    },
    {
      "cell_type": "code",
      "source": [
        "name = \"Pritesh Kokani\"\n",
        "\n",
        "print(name)"
      ],
      "metadata": {
        "colab": {
          "base_uri": "https://localhost:8080/"
        },
        "id": "NC8I2K2LPHtV",
        "outputId": "ebcca268-fb3d-4bb2-c720-d8e96719d2ba"
      },
      "execution_count": null,
      "outputs": [
        {
          "output_type": "stream",
          "name": "stdout",
          "text": [
            "Pritesh Kokani\n"
          ]
        }
      ]
    },
    {
      "cell_type": "markdown",
      "source": [
        "2. Write a code to find the length of the string \"Hello World\"."
      ],
      "metadata": {
        "id": "vBGj-cI6PXnN"
      }
    },
    {
      "cell_type": "code",
      "source": [
        "str_0 = \"Hello World\"\n",
        "\n",
        "print(\"Length of the string is:\", len(str_0))"
      ],
      "metadata": {
        "colab": {
          "base_uri": "https://localhost:8080/"
        },
        "id": "fi5R9JSAPats",
        "outputId": "a8a8f3a9-eb33-4dfb-ac59-c4899d301902"
      },
      "execution_count": null,
      "outputs": [
        {
          "output_type": "stream",
          "name": "stdout",
          "text": [
            "Length of the string is: 11\n"
          ]
        }
      ]
    },
    {
      "cell_type": "markdown",
      "source": [
        "3. Write a code to slice the first 3 characters from the string \"Python Programming\"."
      ],
      "metadata": {
        "id": "1RRciX-fPzeh"
      }
    },
    {
      "cell_type": "code",
      "source": [
        "str_1 = \"Python Programming\"\n",
        "\n",
        "print(str_1[0:3])"
      ],
      "metadata": {
        "colab": {
          "base_uri": "https://localhost:8080/"
        },
        "id": "j29Ktw-fP1Z8",
        "outputId": "1cce264e-21ca-499d-f38b-1af85a801ab4"
      },
      "execution_count": null,
      "outputs": [
        {
          "output_type": "stream",
          "name": "stdout",
          "text": [
            "Pyt\n"
          ]
        }
      ]
    },
    {
      "cell_type": "markdown",
      "source": [
        "4. Write a code to convert the string \"hello\" to uppercase."
      ],
      "metadata": {
        "id": "QkfupSlxQDp-"
      }
    },
    {
      "cell_type": "code",
      "source": [
        "str_2 = \"hello\"\n",
        "\n",
        "print(str_2.upper())"
      ],
      "metadata": {
        "colab": {
          "base_uri": "https://localhost:8080/"
        },
        "id": "yy0HcKL-QFeF",
        "outputId": "99e761b0-b0af-4ca6-9132-aa951d21fb9d"
      },
      "execution_count": null,
      "outputs": [
        {
          "output_type": "stream",
          "name": "stdout",
          "text": [
            "HELLO\n"
          ]
        }
      ]
    },
    {
      "cell_type": "markdown",
      "source": [
        "5. Write a code to replace the word \"apple\" with \"orange\" in the string \"I like apple\"."
      ],
      "metadata": {
        "id": "mfqbyJ1oQVHX"
      }
    },
    {
      "cell_type": "code",
      "source": [
        "str_3 = \"I like apple\"\n",
        "\n",
        "new_str_3 = str_3.replace(\"apple\", \"orange\")\n",
        "\n",
        "print(str_3)\n",
        "print(new_str_3)"
      ],
      "metadata": {
        "colab": {
          "base_uri": "https://localhost:8080/"
        },
        "id": "7n07Dty5QVlN",
        "outputId": "3a360c79-1e5d-44b1-dea2-65097c23a189"
      },
      "execution_count": null,
      "outputs": [
        {
          "output_type": "stream",
          "name": "stdout",
          "text": [
            "I like apple\n",
            "I like orange\n"
          ]
        }
      ]
    },
    {
      "cell_type": "markdown",
      "source": [
        "6. Write a code to create a list with numbers 1 to 5 and print it."
      ],
      "metadata": {
        "id": "afyCnpUARNoF"
      }
    },
    {
      "cell_type": "code",
      "source": [
        "num = range(1, 6)\n",
        "\n",
        "print(list(num))\n"
      ],
      "metadata": {
        "colab": {
          "base_uri": "https://localhost:8080/"
        },
        "id": "CWurPpurRN9L",
        "outputId": "c7d66cdb-1a28-4a33-e106-e0b08cf9f671"
      },
      "execution_count": null,
      "outputs": [
        {
          "output_type": "stream",
          "name": "stdout",
          "text": [
            "[1, 2, 3, 4, 5]\n"
          ]
        }
      ]
    },
    {
      "cell_type": "markdown",
      "source": [
        "7. Write a code to append the number 10 to the list [1, 2, 3, 4]."
      ],
      "metadata": {
        "id": "b7umGH1eRrq3"
      }
    },
    {
      "cell_type": "code",
      "source": [
        "list_0 = [1, 2, 3, 4]\n",
        "\n",
        "list_0.append(10)\n",
        "\n",
        "print(list_0)"
      ],
      "metadata": {
        "colab": {
          "base_uri": "https://localhost:8080/"
        },
        "id": "iLwTSswORsUU",
        "outputId": "01901c6e-b7b9-41bd-9f26-45b06acc00bb"
      },
      "execution_count": null,
      "outputs": [
        {
          "output_type": "stream",
          "name": "stdout",
          "text": [
            "[1, 2, 3, 4, 10]\n"
          ]
        }
      ]
    },
    {
      "cell_type": "markdown",
      "source": [
        "8. Write a code to remove the number 3 from the list [1, 2, 3, 4, 5]."
      ],
      "metadata": {
        "id": "DZJ-KpHXR6XV"
      }
    },
    {
      "cell_type": "code",
      "source": [
        "list_1 = [1, 2, 3, 4, 5]\n",
        "\n",
        "list_1.remove(3)\n",
        "\n",
        "print(list_1)"
      ],
      "metadata": {
        "colab": {
          "base_uri": "https://localhost:8080/"
        },
        "id": "sFuhgxAMR7G_",
        "outputId": "c18fbab0-0ea4-4404-b094-119396e38920"
      },
      "execution_count": null,
      "outputs": [
        {
          "output_type": "stream",
          "name": "stdout",
          "text": [
            "[1, 2, 4, 5]\n"
          ]
        }
      ]
    },
    {
      "cell_type": "markdown",
      "source": [
        "9. Write a code to access the second element in the list ['a', 'b', 'c', 'd']P"
      ],
      "metadata": {
        "id": "eg7Vx_cWSIh9"
      }
    },
    {
      "cell_type": "code",
      "source": [
        "list_2 = ['a', 'b', 'c', 'd']\n",
        "\n",
        "print(list_2[1])"
      ],
      "metadata": {
        "colab": {
          "base_uri": "https://localhost:8080/"
        },
        "id": "HEe4mG64SJrk",
        "outputId": "3bb3eb05-6d7d-43b5-a03a-dd491025c31b"
      },
      "execution_count": null,
      "outputs": [
        {
          "output_type": "stream",
          "name": "stdout",
          "text": [
            "b\n"
          ]
        }
      ]
    },
    {
      "cell_type": "markdown",
      "source": [
        "10. Write a code to reverse the list [10, 20, 30, 40, 50]."
      ],
      "metadata": {
        "id": "9gViq93TSbte"
      }
    },
    {
      "cell_type": "code",
      "source": [
        "list_3 = [10, 20, 30, 40, 50]\n",
        "\n",
        "print(list_3[::-1])"
      ],
      "metadata": {
        "colab": {
          "base_uri": "https://localhost:8080/"
        },
        "id": "jHePvtTxScve",
        "outputId": "e4f00aa4-f911-4f3d-c59f-59b093d2ee2c"
      },
      "execution_count": null,
      "outputs": [
        {
          "output_type": "stream",
          "name": "stdout",
          "text": [
            "[50, 40, 30, 20, 10]\n"
          ]
        }
      ]
    },
    {
      "cell_type": "markdown",
      "source": [
        "11. Write a code to create a tuple with the elements 100, 200, 300 and print it."
      ],
      "metadata": {
        "id": "S5upxWX0Sq2v"
      }
    },
    {
      "cell_type": "code",
      "source": [
        "tup = (100, 200, 300)\n",
        "\n",
        "print(tup)"
      ],
      "metadata": {
        "colab": {
          "base_uri": "https://localhost:8080/"
        },
        "id": "RwyfwvneSxLt",
        "outputId": "85c5b4ac-ac3d-42d0-847f-4ef6cf968924"
      },
      "execution_count": null,
      "outputs": [
        {
          "output_type": "stream",
          "name": "stdout",
          "text": [
            "(100, 200, 300)\n"
          ]
        }
      ]
    },
    {
      "cell_type": "markdown",
      "source": [
        "12. Write a code to access the second-to-last element of the tuple ('red', 'green', 'blue', 'yellow')."
      ],
      "metadata": {
        "id": "6jnWilCQS4D1"
      }
    },
    {
      "cell_type": "code",
      "source": [
        "tup = ('red', 'green', 'blue', 'yellow')\n",
        "\n",
        "print(tup[1:])"
      ],
      "metadata": {
        "colab": {
          "base_uri": "https://localhost:8080/"
        },
        "id": "Cd0p8NrZS_WU",
        "outputId": "c3ec0500-6ba4-4ec4-bf38-e9ac840be8ab"
      },
      "execution_count": null,
      "outputs": [
        {
          "output_type": "stream",
          "name": "stdout",
          "text": [
            "('green', 'blue', 'yellow')\n"
          ]
        }
      ]
    },
    {
      "cell_type": "markdown",
      "source": [
        "13. Write a code to find the minimum number in the tuple (10, 20, 5, 15)."
      ],
      "metadata": {
        "id": "nxI3s4r2TRzN"
      }
    },
    {
      "cell_type": "code",
      "source": [
        "tup = (10, 20, 5, 15)\n",
        "\n",
        "print(min(tup))"
      ],
      "metadata": {
        "colab": {
          "base_uri": "https://localhost:8080/"
        },
        "id": "KTyy0Br2TT40",
        "outputId": "03ec7a2b-ebaa-4ece-f918-18ed32ad1b0c"
      },
      "execution_count": null,
      "outputs": [
        {
          "output_type": "stream",
          "name": "stdout",
          "text": [
            "5\n"
          ]
        }
      ]
    },
    {
      "cell_type": "markdown",
      "source": [
        "14. Write a code to find the index of the element \"cat\" in the tuple ('dog', 'cat', 'rabbit')."
      ],
      "metadata": {
        "id": "3TVN8nzBTcVE"
      }
    },
    {
      "cell_type": "code",
      "source": [
        "tup = ('dog', 'cat', 'rabbit')\n",
        "\n",
        "print(tup.index(\"cat\"))"
      ],
      "metadata": {
        "colab": {
          "base_uri": "https://localhost:8080/"
        },
        "id": "El1AwOLQTf_q",
        "outputId": "93c4bd68-ec3a-4609-c475-02b12bbe33f8"
      },
      "execution_count": null,
      "outputs": [
        {
          "output_type": "stream",
          "name": "stdout",
          "text": [
            "1\n"
          ]
        }
      ]
    },
    {
      "cell_type": "markdown",
      "source": [
        "15. Write a code to create a tuple containing three different fruits and check if \"kiwi\" is in it."
      ],
      "metadata": {
        "id": "vXEZIp1yTwzF"
      }
    },
    {
      "cell_type": "code",
      "source": [
        "fruits = (\"banana\", \"kiwi\", \"graps\")\n",
        "\n",
        "if \"kiwi\" in fruits:\n",
        "  print(\"Yes, 'kiwi' is in the tuple.\")\n",
        "\n",
        "else:\n",
        "  print(\"No, 'kiwi' is not in the tuple\")"
      ],
      "metadata": {
        "colab": {
          "base_uri": "https://localhost:8080/"
        },
        "id": "zydtbLgsTx-W",
        "outputId": "2864d0aa-1ee0-48ce-8bf8-694750b30919"
      },
      "execution_count": null,
      "outputs": [
        {
          "output_type": "stream",
          "name": "stdout",
          "text": [
            "Yes, 'kiwi' is in the tuple.\n"
          ]
        }
      ]
    },
    {
      "cell_type": "markdown",
      "source": [
        "16. Write a code to create a set with the elements 'a', 'b', 'c' and print it."
      ],
      "metadata": {
        "id": "zQQUVkOBUeyE"
      }
    },
    {
      "cell_type": "code",
      "source": [
        "s = { 'a', 'b', 'c' }\n",
        "\n",
        "print(s)"
      ],
      "metadata": {
        "colab": {
          "base_uri": "https://localhost:8080/"
        },
        "id": "aB1P-Jg5Uf7N",
        "outputId": "c34a7f60-419e-4e0a-ef6b-e6e611cfa11e"
      },
      "execution_count": null,
      "outputs": [
        {
          "output_type": "stream",
          "name": "stdout",
          "text": [
            "{'b', 'c', 'a'}\n"
          ]
        }
      ]
    },
    {
      "cell_type": "markdown",
      "source": [
        "17. Write a code to clear all elements from the set {1, 2, 3, 4, 5}."
      ],
      "metadata": {
        "id": "G2Iucwl9UqcN"
      }
    },
    {
      "cell_type": "code",
      "source": [
        "s = {1, 2, 3, 4, 5}\n",
        "\n",
        "s.clear()\n",
        "\n",
        "print(s)"
      ],
      "metadata": {
        "colab": {
          "base_uri": "https://localhost:8080/"
        },
        "id": "andD4TybUuK0",
        "outputId": "cb10d6bc-cee5-496e-fb41-198907aeb024"
      },
      "execution_count": null,
      "outputs": [
        {
          "output_type": "stream",
          "name": "stdout",
          "text": [
            "set()\n"
          ]
        }
      ]
    },
    {
      "cell_type": "markdown",
      "source": [
        "18. Write a code to remove the element 4 from the set {1, 2, 3, 4}."
      ],
      "metadata": {
        "id": "OcQFOFoXVQGX"
      }
    },
    {
      "cell_type": "code",
      "source": [
        "s = {1, 2, 3, 4}\n",
        "s.remove(4)\n",
        "\n",
        "print(s)"
      ],
      "metadata": {
        "colab": {
          "base_uri": "https://localhost:8080/"
        },
        "id": "XwebxysBVQ-J",
        "outputId": "8ed10b53-b254-42de-ccff-5c95335bf66a"
      },
      "execution_count": null,
      "outputs": [
        {
          "output_type": "stream",
          "name": "stdout",
          "text": [
            "{1, 2, 3}\n"
          ]
        }
      ]
    },
    {
      "cell_type": "markdown",
      "source": [
        "19. Write a code to find the union of two sets {1, 2, 3} and {3, 4, 5}."
      ],
      "metadata": {
        "id": "zpEh30A3VZLV"
      }
    },
    {
      "cell_type": "code",
      "source": [
        "set_0 = {1, 2, 3}\n",
        "set_1 = {3, 4, 5}\n",
        "\n",
        "union_set = set_0.union(set_1)\n",
        "\n",
        "print(union_set)"
      ],
      "metadata": {
        "colab": {
          "base_uri": "https://localhost:8080/"
        },
        "id": "9mi4zaqIVo-1",
        "outputId": "2b006d3d-a9be-46e4-98d8-178c34d2bc16"
      },
      "execution_count": null,
      "outputs": [
        {
          "output_type": "stream",
          "name": "stdout",
          "text": [
            "{1, 2, 3, 4, 5}\n"
          ]
        }
      ]
    },
    {
      "cell_type": "markdown",
      "source": [
        "20. Write a code to find the intersection of two sets {1, 2, 3} and {2, 3, 4}."
      ],
      "metadata": {
        "id": "3v666ZM2WMQl"
      }
    },
    {
      "cell_type": "code",
      "source": [
        "set1 = {1, 2, 3}\n",
        "set2 = {2, 3, 4}\n",
        "\n",
        "intersection_set = set1.intersection(set2)\n",
        "\n",
        "print(intersection_set)"
      ],
      "metadata": {
        "colab": {
          "base_uri": "https://localhost:8080/"
        },
        "id": "0JnUnSuOWTQU",
        "outputId": "7ec5f397-b383-46a2-bc30-a2bc91808c9a"
      },
      "execution_count": null,
      "outputs": [
        {
          "output_type": "stream",
          "name": "stdout",
          "text": [
            "{2, 3}\n"
          ]
        }
      ]
    },
    {
      "cell_type": "markdown",
      "source": [
        "21. Write a code to create a dictionary with the keys \"name\", \"age\", and \"city\", and print it."
      ],
      "metadata": {
        "id": "1mRiMR5zWuAt"
      }
    },
    {
      "cell_type": "code",
      "source": [
        "dic0 = {\"name\" : \"Raj\", \"age\" : 19, \"city\" : \"vyara\"}\n",
        "\n",
        "print(dic0)"
      ],
      "metadata": {
        "colab": {
          "base_uri": "https://localhost:8080/"
        },
        "id": "NCUN-_xzWmdS",
        "outputId": "315b2a1e-b97b-46b9-f47c-90ed260c0945"
      },
      "execution_count": null,
      "outputs": [
        {
          "output_type": "stream",
          "name": "stdout",
          "text": [
            "{'name': 'Raj', 'age': 19, 'city': 'vyara'}\n"
          ]
        }
      ]
    },
    {
      "cell_type": "markdown",
      "source": [
        "22. Write a code to add a new key-value pair \"country\": \"USA\" to the dictionary {'name': 'John', 'age': 25}."
      ],
      "metadata": {
        "id": "x_Dts6ZlKM4w"
      }
    },
    {
      "cell_type": "code",
      "source": [
        "dic1 = {'name': 'John', 'age': 25}\n",
        "dic1[\"country\"] = \"USA\"\n",
        "\n",
        "print(dic1)"
      ],
      "metadata": {
        "colab": {
          "base_uri": "https://localhost:8080/"
        },
        "id": "6rSMN0RDKN4S",
        "outputId": "17cc00f9-3d4f-4a59-d438-b5f3baa4cecd"
      },
      "execution_count": null,
      "outputs": [
        {
          "output_type": "stream",
          "name": "stdout",
          "text": [
            "{'name': 'John', 'age': 25, 'country': 'USA'}\n"
          ]
        }
      ]
    },
    {
      "cell_type": "markdown",
      "source": [
        "23. Write a code to access the value associated with the key \"name\" in the dictionary {'name': 'Alice', 'age': 30}."
      ],
      "metadata": {
        "id": "j3tWekRhKijx"
      }
    },
    {
      "cell_type": "code",
      "source": [
        "dic2 = {'name': 'Alice', 'age': 30}\n",
        "\n",
        "print(dic2['name'])"
      ],
      "metadata": {
        "colab": {
          "base_uri": "https://localhost:8080/"
        },
        "id": "Qc7E9v7OKpHv",
        "outputId": "7050c1ef-ec8c-494f-af9f-fae24876cdc0"
      },
      "execution_count": null,
      "outputs": [
        {
          "output_type": "stream",
          "name": "stdout",
          "text": [
            "Alice\n"
          ]
        }
      ]
    },
    {
      "cell_type": "markdown",
      "source": [
        "24. Write a code to remove the key \"age\" from the dictionary {'name': 'Bob', 'age': 22, 'city': 'New York'}."
      ],
      "metadata": {
        "id": "FFlFq1TyK22f"
      }
    },
    {
      "cell_type": "code",
      "source": [
        "dic3 = {'name': 'Bob', 'age': 22, 'city': 'New York'}\n",
        "\n",
        "del dic3['age']\n",
        "\n",
        "print(dic3)"
      ],
      "metadata": {
        "colab": {
          "base_uri": "https://localhost:8080/"
        },
        "id": "Rh0XiC4qK4Mv",
        "outputId": "9f318080-493b-4bef-a347-e13ae99546d1"
      },
      "execution_count": null,
      "outputs": [
        {
          "output_type": "stream",
          "name": "stdout",
          "text": [
            "{'name': 'Bob', 'city': 'New York'}\n"
          ]
        }
      ]
    },
    {
      "cell_type": "markdown",
      "source": [
        "25. Write a code to check if the key \"city\" exists in the dictionary {'name': 'Alice', 'city': 'Paris'}."
      ],
      "metadata": {
        "id": "EM_0qKzCLKI3"
      }
    },
    {
      "cell_type": "code",
      "source": [
        "dic4 =  {'name': 'Alice', 'city': 'Paris'}\n",
        "\n",
        "if 'city' in dic4:\n",
        "  print(\"Yes, 'city' exists in the dictionary.\")\n",
        "else:\n",
        "  print(\"No, 'city' does not exist in the dictionary.\")"
      ],
      "metadata": {
        "colab": {
          "base_uri": "https://localhost:8080/"
        },
        "id": "-6SQzZkMLTHb",
        "outputId": "d58f0eec-9a2e-4d8d-a89f-3d3c0fbb4007"
      },
      "execution_count": null,
      "outputs": [
        {
          "output_type": "stream",
          "name": "stdout",
          "text": [
            "Yes, 'city' exists in the dictionary.\n"
          ]
        }
      ]
    },
    {
      "cell_type": "markdown",
      "source": [
        "26. Write a code to create a list, a tuple, and a dictionary, and print them all."
      ],
      "metadata": {
        "id": "UyQu-4owLztn"
      }
    },
    {
      "cell_type": "code",
      "source": [
        "lis = [1, 2, 3, 4, 5]\n",
        "tup = (10, 20, 5, 15)\n",
        "dic = {'name': 'Alice', 'age': 30}\n",
        "\n",
        "print(lis)\n",
        "print(tup)\n",
        "print(dic)\n"
      ],
      "metadata": {
        "colab": {
          "base_uri": "https://localhost:8080/"
        },
        "id": "WnrDdx2BL8Im",
        "outputId": "bb51a0ac-b6da-4520-d304-7eab06a9d13f"
      },
      "execution_count": null,
      "outputs": [
        {
          "output_type": "stream",
          "name": "stdout",
          "text": [
            "[1, 2, 3, 4, 5]\n",
            "(10, 20, 5, 15)\n",
            "{'name': 'Alice', 'age': 30}\n"
          ]
        }
      ]
    },
    {
      "cell_type": "markdown",
      "source": [
        "27. Write a code to create a list of 5 random numbers between 1 and 100, sort it in ascending order, and print the\n",
        "result.(replaced)"
      ],
      "metadata": {
        "id": "TdbfUg5oMSeP"
      }
    },
    {
      "cell_type": "code",
      "source": [
        "import random\n",
        "\n",
        "random_numbers = [random.randint(1, 100) for _ in range(5)]\n",
        "random_numbers.sort()\n",
        "\n",
        "print(\"Sorted random numbers:\", random_numbers)"
      ],
      "metadata": {
        "colab": {
          "base_uri": "https://localhost:8080/"
        },
        "id": "nvxtnEmfMVXX",
        "outputId": "dc03ac82-705a-4d38-f736-d2b5073d7b92"
      },
      "execution_count": null,
      "outputs": [
        {
          "output_type": "stream",
          "name": "stdout",
          "text": [
            "Sorted random numbers: [40, 48, 73, 89, 95]\n"
          ]
        }
      ]
    },
    {
      "cell_type": "markdown",
      "source": [
        "28. Write a code to create a list with strings and print the element at the third index."
      ],
      "metadata": {
        "id": "QVp8_1LlOMP4"
      }
    },
    {
      "cell_type": "code",
      "source": [
        "lis = [\"Raj\", \"Smith\", \"Milind\", \"Gaurav\"]\n",
        "\n",
        "print(\"Element at third Index:\", lis[3])"
      ],
      "metadata": {
        "colab": {
          "base_uri": "https://localhost:8080/"
        },
        "id": "ujBfzjR_ONbe",
        "outputId": "2d64acad-8153-44d1-8681-782ec0385dca"
      },
      "execution_count": null,
      "outputs": [
        {
          "output_type": "stream",
          "name": "stdout",
          "text": [
            "Element at third Index: Gaurav\n"
          ]
        }
      ]
    },
    {
      "cell_type": "markdown",
      "source": [
        "29. Write a code to create a list with strings and print the element at the third index."
      ],
      "metadata": {
        "id": "1BGq9JwzOvTZ"
      }
    },
    {
      "cell_type": "code",
      "source": [
        "dic_0 = {'name': 'John', 'age': 25}\n",
        "dic_1 = {'city': 'New York', 'country' : 'USA'}\n",
        "\n",
        "dic_0.update(dic_1)\n",
        "\n",
        "print(dic_0)\n",
        "#"
      ],
      "metadata": {
        "colab": {
          "base_uri": "https://localhost:8080/"
        },
        "id": "1uhWZ_uIOwQq",
        "outputId": "2a9409b6-471a-4ce3-a343-aee43f8e8879"
      },
      "execution_count": null,
      "outputs": [
        {
          "output_type": "stream",
          "name": "stdout",
          "text": [
            "{'name': 'John', 'age': 25, 'city': 'New York', 'country': 'USA'}\n"
          ]
        }
      ]
    },
    {
      "cell_type": "markdown",
      "source": [
        "30. Write a code to convert a list of strings into a set."
      ],
      "metadata": {
        "id": "eT3mvwVyP2-Y"
      }
    },
    {
      "cell_type": "code",
      "source": [
        "lis = lis = [\"Raj\", \"Smith\", \"Milind\", \"Gaurav\"]\n",
        "\n",
        "new_set = set(lis)\n",
        "\n",
        "print(new_set)"
      ],
      "metadata": {
        "colab": {
          "base_uri": "https://localhost:8080/"
        },
        "id": "ED3Mzuo5P833",
        "outputId": "a303ee0f-9d0b-4a3c-b77f-6c65b0463c99"
      },
      "execution_count": null,
      "outputs": [
        {
          "output_type": "stream",
          "name": "stdout",
          "text": [
            "{'Gaurav', 'Raj', 'Smith', 'Milind'}\n"
          ]
        }
      ]
    }
  ]
}