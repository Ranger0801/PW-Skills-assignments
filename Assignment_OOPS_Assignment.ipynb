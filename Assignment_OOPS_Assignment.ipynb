{
  "nbformat": 4,
  "nbformat_minor": 0,
  "metadata": {
    "colab": {
      "provenance": []
    },
    "kernelspec": {
      "name": "python3",
      "display_name": "Python 3"
    },
    "language_info": {
      "name": "python"
    }
  },
  "cells": [
    {
      "cell_type": "markdown",
      "source": [
        "**Python OOPs Questions**"
      ],
      "metadata": {
        "id": "46NUvQilUcku"
      }
    },
    {
      "cell_type": "markdown",
      "source": [
        "1. What is Object-Oriented Programming (OOP)?\n",
        "- Object-Oriented Programming (OOP) is a programming paradigm where programs are designed using objects instead of just functions and logic.\n",
        "\n",
        "- An object is like a real-world entity (car, person, bank account) that has:\n",
        "\n",
        "- Attributes (data/properties) → variables inside the object\n",
        "\n",
        "- Methods (behavior/actions) → functions inside the object"
      ],
      "metadata": {
        "id": "Z6aOvhs_Ulxs"
      }
    },
    {
      "cell_type": "markdown",
      "source": [
        "2. What is a class in OOP?\n",
        "- In Object-Oriented Programming (OOP), a class is a blueprint or template for creating objects.\n",
        "\n",
        "- It defines the attributes (data/variables) and methods (functions/behaviors) that the objects created from it will have."
      ],
      "metadata": {
        "id": "Su2_6eT_U-PT"
      }
    },
    {
      "cell_type": "markdown",
      "source": [
        "3. What is an object in OOP?\n",
        "- In Object-Oriented Programming (OOP), an object is an instance of a class.\n",
        "\n",
        "- It is the actual entity that: Holds data (attributes/variables). Can perform actions (methods/functions) defined in the class."
      ],
      "metadata": {
        "id": "R4puICsUVQgq"
      }
    },
    {
      "cell_type": "markdown",
      "source": [
        "4. What is the difference between abstraction and encapsulation?\n",
        "\n",
        "Abstraction: Abstraction method is used to Hide the implementation details and showing only the essential features. Focus of an abstraction method is to show what  object can do, not how it does it. The purpose of an Abstraction method is to reduce complexity by exposing only necessary parts.\n",
        "\n",
        "Encapsulation: Encapsulationis wrapping data (variables) and methods (functions) together into a single unit (class). Focus of an encapsulation is on controlling access to data and ensuring data safety. The purpose of encpsulation is to restrict direct access and prevent accidental modification. It is achieved by access modifiers (public, _protected, __private)."
      ],
      "metadata": {
        "id": "mR9o9qOIVgfi"
      }
    },
    {
      "cell_type": "markdown",
      "source": [
        "5. What are dunder methods in Python?\n",
        "- Dunder methods in Python (short for “double underscore methods”) are special built-in methods that start and end with two underscores (__method__).\n",
        "\n",
        "- They are sometimes called “magic methods” or “special methods”, and Python uses them to enable certain behaviors in your objects (like making them behave like built-in types)."
      ],
      "metadata": {
        "id": "zg60KKSqXRI3"
      }
    },
    {
      "cell_type": "markdown",
      "source": [
        "6. Explain the concept of inheritance in OOPH.\n",
        "- Inheritance in Object-Oriented Programming (OOP) is a mechanism that allows a class (child class / derived class) to reuse the properties and behaviors of another class (parent class / base class).\n",
        "\n",
        "- It helps achieve code reusability and supports the idea of hierarchical classification."
      ],
      "metadata": {
        "id": "UgRp6pg7UT0O"
      }
    },
    {
      "cell_type": "markdown",
      "source": [
        "7. What is polymorphism in OOP?\n",
        "- The word Polymorphism means: Poly = many and Morph = forms.\n",
        "\n",
        "- In Object-Oriented Programming (OOP), Polymorphism means the same function, operator, or object name can have different behaviors depending on the context.\n",
        "\n",
        "- It allows different classes to define methods with the same name but with different implementations."
      ],
      "metadata": {
        "id": "XHQiDntDUuiN"
      }
    },
    {
      "cell_type": "markdown",
      "source": [
        "8. How is encapsulation achieved in Python?\n",
        "- Encapsulation means bundling data (attributes) and methods (functions) that operate on that data into a single unit (class) and restricting direct access to some of the object’s components.\n",
        "- Encapsulation is achieved by creating Public, Private and Protected variables.\n",
        "- Public Members (default): Accessible from anywhere and no underscore prefix is required.\n",
        "- eg. class Student:\n",
        "    def __init__(self, name, age):\n",
        "        self.name = name   # public\n",
        "        self.age = age     # public\n",
        "\n",
        "- Protected Members (convention only): Prefix with one underscore (_var). It is suggested to “use only inside the class or subclasses”. Still accessible outside (not strictly enforced).\n",
        "- eg. class Student:\n",
        "    def __init__(self, name, age):\n",
        "        self._age = age   # protected\n",
        "\n",
        "- Private Members (name mangling): Prefix with two underscores (__var). Python internally renames it to _ClassName__var, making it harder to access.\n",
        "- eg. class Student:\n",
        "    def __init__(self, name, age):\n",
        "        self.__age = age   # private\n",
        "\n",
        "    def get_age(self):     # getter\n",
        "        return self.__age\n",
        "\n",
        "    def set_age(self, age): # setter\n",
        "        if age > 0:\n",
        "            self.__age = age"
      ],
      "metadata": {
        "id": "xxdfxKwWVspW"
      }
    },
    {
      "cell_type": "markdown",
      "source": [
        "9. What is a constructor in Python?\n",
        "- A constructor in Python is a special method that is automatically called when you create an object of a class.\n",
        "It is used to initialize the object’s attributes (give them initial values). In Python, the constructor method is always named __init__().\n",
        "- eg. class ClassName:\n",
        "    def __init__(self, parameters):\n",
        "        # initialization code\n",
        "        self.attribute = parameters"
      ],
      "metadata": {
        "id": "eDO1ozf9X8jJ"
      }
    },
    {
      "cell_type": "markdown",
      "source": [
        "10. What are class and static methods in Python?\n",
        "- Class method:\n",
        "- Defined with the @classmethod decorator. The first parameter is always cls (points to the class, not the object). Can access and modify class-level data, but not instance-specific data. Useful when you want a method that works at the class level (shared by all objects).\n",
        "- eg. class Student:\n",
        "    school_name = \"ABC School\"   # Class variable\n",
        "\n",
        "    def __init__(self, name):\n",
        "        self.name = name         # Instance variable\n",
        "\n",
        "    @classmethod\n",
        "    def change_school(cls, new_name):\n",
        "        cls.school_name = new_name  # modifies class variable\n",
        "\n",
        "- Static Method:\n",
        "- Defined with the @staticmethod decorator. They don’t take self or cls as a default parameter. Behaves like a normal function inside a class → logically belongs to the class but doesn’t depend on instance or class data. Useful for utility/helper functions.\n",
        "- eg. class Math:\n",
        "    @staticmethod\n",
        "    def add(x, y):\n",
        "        return x + y\n",
        "\n",
        "    @staticmethod\n",
        "    def is_even(n):\n",
        "        return n % 2 == 0"
      ],
      "metadata": {
        "id": "UcfsaFofYR2m"
      }
    },
    {
      "cell_type": "markdown",
      "source": [
        "11. What is method overloading in Python?\n",
        "- Python does not support true method overloading like Java or C++. If you define multiple methods with the same name, the last one defined overrides the previous ones.\n",
        "But… we can simulate method overloading using: Default arguments, Variable arguments (*args, **kwargs), Single method handling multiple cases."
      ],
      "metadata": {
        "id": "7sAILAHSZXda"
      }
    },
    {
      "cell_type": "markdown",
      "source": [
        "12. What is method overriding in OOP?\n",
        "- Method overriding happens when a child class provides its own implementation of a method that already exists in the parent class. The method name, parameters, and return type remain the same, but the behavior is redefined. This is a form of runtime polymorphism.\n",
        "- eg. class Animal:\n",
        "    def speak(self):\n",
        "        print(\"I make a sound.\")\n",
        "\n",
        "class Dog(Animal):\n",
        "    def speak(self):   # Overriding parent method\n",
        "        print(\"I bark.\")\n",
        "\n",
        "class Cat(Animal):\n",
        "    def speak(self):   # Overriding parent method\n",
        "        print(\"I meow.\")\n",
        "\n",
        "a = Animal()\n",
        "d = Dog()\n",
        "c = Cat()\n",
        "\n",
        "a.speak()  # I make a sound.\n",
        "d.speak()  # I bark.\n",
        "c.speak()  # I meow.\n"
      ],
      "metadata": {
        "id": "c-kz3pImaHVq"
      }
    },
    {
      "cell_type": "markdown",
      "source": [
        "13. What is a property decorator in Python?\n",
        "- The @property decorator in Python is used to turn a method into an attribute-like property.\n",
        "It allows you to define getters, setters, and deleters in a Pythonic way without directly exposing internal variables. In simple words:\n",
        "It lets you access a method like an attribute (obj.attr) while still keeping control (encapsulation)."
      ],
      "metadata": {
        "id": "YqYRP0CoavAp"
      }
    },
    {
      "cell_type": "markdown",
      "source": [
        "14. Why is polymorphism important in OOP?\n",
        "- Polymorphism is important in OOP because it makes code flexible, reusable, and scalable, allowing one interface to handle many forms of behavior."
      ],
      "metadata": {
        "id": "o_HnyYJvc_mE"
      }
    },
    {
      "cell_type": "markdown",
      "source": [
        "15. What is an abstract class in Python?\n",
        "- An abstract class is a class that cannot be instantiated directly (you can’t create objects from it).\n",
        "It is meant to act as a blueprint for other classes. It can contain: Abstract methods → methods declared but not implemented (child must implement). Concrete methods → normal methods with implementation. In Python, abstract classes are defined using the abc (Abstract Base Class) module.\n",
        "\n",
        "- eg. from abc import ABC, abstractmethod\n",
        "\n",
        "class Animal(ABC):   # Inherits from ABC → abstract class\n",
        "    @abstractmethod\n",
        "    def speak(self):\n",
        "        pass   # No implementation here\n",
        "\n",
        "    def sleep(self):   # Normal (concrete) method\n",
        "        print(\"Sleeping...\")\n",
        "\n",
        "class Dog(Animal):\n",
        "    def speak(self):\n",
        "        print(\"Bark!\")\n",
        "\n",
        "class Cat(Animal):\n",
        "    def speak(self):\n",
        "        print(\"Meow!\")\n",
        "\n",
        "a = Animal()   # ❌ Error: Can't instantiate abstract class\n",
        "dog = Dog()\n",
        "cat = Cat()\n",
        "\n",
        "dog.speak()   # Bark!\n",
        "cat.speak()   # Meow!\n",
        "dog.sleep()   # Sleeping..."
      ],
      "metadata": {
        "id": "Gf3SILrPdndP"
      }
    },
    {
      "cell_type": "markdown",
      "source": [
        "16. What are the advantages of OOP?\n",
        "- Advantages of Object-Oriented Programming (OOP):\n",
        "- Code Reusability: Using inheritance, you can reuse code across multiple classes instead of rewriting it. eg. A Vehicle class defines common attributes (speed, wheels), and Car or Bike classes reuse them.\n",
        "- Encapsulation (Data Hiding): Keeps data safe and controlled by restricting direct access to attributes. eg. A bank account class hides the balance but provides controlled methods (deposit, withdraw).\n",
        "- Abstraction (Focus on What, Not How): Hides unnecessary implementation details and only exposes essential features. eg. You just call car.start() without worrying about how the engine works internally.\n",
        "- Polymorphism (Many Forms): Same method name can behave differently for different objects. eg. animal.speak() works differently for Dog, Cat, or Cow.\n",
        "- Modularity: Code is organized into classes and objects, making it easier to manage, read, and debug. Each class is a self-contained module.\n",
        "- Scalability & Maintainability: OOP systems are easier to extend — just add a new class without breaking existing code. Fixes or updates are localized within specific classes.\n",
        "- Improved Collaboration (Teamwork): Different developers can work on different classes independently. eg. One works on Payment, another on User, another on Orders.\n",
        "- Real-World Modeling: OOP models problems closer to the real world using objects (e.g., Car, Employee, BankAccount). Makes design more intuitive."
      ],
      "metadata": {
        "id": "rxB6eWTXesdw"
      }
    },
    {
      "cell_type": "markdown",
      "source": [
        "17. What is the difference between a class variable and an instance variable?\n",
        "- Class Variable: Belongs to the class itself, shared by all objects of that class. Defined outside the constructor, directly inside the class. Only one copy exists, and all objects share it. Changes made using the class name affect all objects.\n",
        "- Instance Variable: Belongs to a specific object (instance) of a class. Defined inside the constructor (__init__) using self. Each object has its own separate copy of instance variables. Changes made in one object do not affect other objects."
      ],
      "metadata": {
        "id": "L2vN5qUlfwbC"
      }
    },
    {
      "cell_type": "markdown",
      "source": [
        "18. What is multiple inheritance in Python?\n",
        "- Multiple Inheritance in Python: Multiple inheritance means a class can inherit from more than one parent class. The child class then gets access to attributes and methods from all parent classes.\n",
        "- eg. class Parent1:\n",
        "    pass\n",
        "\n",
        "class Parent2:\n",
        "    pass\n",
        "\n",
        "class Child(Parent1, Parent2):   # Multiple inheritance\n",
        "    pass"
      ],
      "metadata": {
        "id": "-kKRc83ZgQ5Q"
      }
    },
    {
      "cell_type": "markdown",
      "source": [
        "19. Explain the purpose of ‘’__str__’ and ‘__repr__’ ‘ methods in Python.\n",
        "- Both methods are used to define how an object is represented as a string, but their purposes are different:\n",
        "- __str__: Goal: Human-readable representation of the object. Used when you call print(obj) or str(obj). Should be easy to read and user-friendly.\n",
        "- __repr__: Goal: Unambiguous representation of the object. Used when you call repr(obj) or just type obj in the Python shell. Should ideally return a string that could recreate the object if fed back to eval(). Mainly for developers and debugging.\n",
        "- class Book:\n",
        "    def __init__(self, title, author):\n",
        "        self.title = title\n",
        "        self.author = author\n",
        "\n",
        "    def __str__(self):\n",
        "        return f\"'{self.title}' by {self.author}\"   # User-friendly\n",
        "\n",
        "    def __repr__(self):\n",
        "        return f\"Book(title='{self.title}', author='{self.author}')\"  # Debug-friendly\n",
        "\n",
        "b = Book(\"Python Basics\", \"Guido\")\n",
        "\n",
        "print(b)         # Calls __str__ → \"'Python Basics' by Guido\"\n",
        "print(str(b))    # Same as above\n",
        "print(repr(b))   # Calls __repr__ → \"Book(title='Python Basics', author='Guido')\""
      ],
      "metadata": {
        "id": "HH1-ugY3gosI"
      }
    },
    {
      "cell_type": "markdown",
      "source": [
        "20. What is the significance of the ‘super()’ function in Python?\n",
        "- super() in Python: The super() function is used to call methods from a parent (superclass) inside a child (subclass). It allows you to reuse code from the base class without explicitly naming the parent.\n",
        "- eg: class Parent:\n",
        "    def __init__(self, name):\n",
        "        self.name = name\n",
        "        print(\"Parent constructor called\")\n",
        "\n",
        "class Child(Parent):\n",
        "    def __init__(self, name, age):\n",
        "        super().__init__(name)  # Calls Parent's __init__\n",
        "        self.age = age\n",
        "        print(\"Child constructor called\")\n",
        "\n",
        "c = Child(\"Preet\", 22)\n",
        "print(c.name, c.age)"
      ],
      "metadata": {
        "id": "LIsMRo-Fha0E"
      }
    },
    {
      "cell_type": "markdown",
      "source": [
        "21.  What is the significance of the __del__ method in Python?\n",
        "- __del__ is called a destructor method. It is automatically invoked when an object is about to be destroyed (i.e., when it is garbage collected). Its purpose is to define cleanup actions (like closing files, releasing network connections, or freeing resources).\n",
        "- eg. class FileHandler:\n",
        "    def __init__(self, filename):\n",
        "        self.file = open(filename, \"w\")\n",
        "        print(\"File opened\")\n",
        "\n",
        "    def write_data(self, data):\n",
        "        self.file.write(data)\n",
        "\n",
        "    def __del__(self):\n",
        "        print(\"Destructor called, closing file\")\n",
        "        self.file.close()\n",
        "\n",
        "f = FileHandler(\"test.txt\")\n",
        "f.write_data(\"Hello, World!\")\n",
        "\n",
        "del f   # Explicitly deletes object → calls __del__"
      ],
      "metadata": {
        "id": "BUN5_vrNh2Qg"
      }
    },
    {
      "cell_type": "markdown",
      "source": [
        "22. What is the difference between @staticmethod and @classmethod in Python?\n",
        "- @staticmethod vs @classmethod: Both are decorators used to define methods inside a class, but they behave differently.\n",
        "- @staticmethod: Does not take self or cls as the first argument. Works like a regular function, just placed inside a class for organization. Cannot access or modify instance variables or class variables directly. Mostly used for utility/helper functions.\n",
        "- @classmethod: Takes cls (the class itself) as the first argument. Can access and modify class variables (shared across all objects). Useful when you need to create methods that deal with the class as a whole instead of a specific instance. Often used for factory methods (alternative constructors)."
      ],
      "metadata": {
        "id": "841GMxmoiVhi"
      }
    },
    {
      "cell_type": "markdown",
      "source": [
        "23. How does polymorphism work in Python with inheritance?\n",
        "- Polymorphism with Inheritance in Python: Polymorphism means “same function/method name, but different behavior depending on the object that calls it.” When combined with inheritance, it allows a child class to override a parent class method, but still keep the same method name.\n",
        "- class Animal:\n",
        "    def speak(self):\n",
        "        print(\"Animals make sounds\")\n",
        "\n",
        "class Dog(Animal):\n",
        "    def speak(self):\n",
        "        print(\"Dog barks\")\n",
        "\n",
        "class Cat(Animal):\n",
        "    def speak(self):\n",
        "        print(\"Cat meows\")\n",
        "\n",
        "animals = [Dog(), Cat(), Animal()]\n",
        "\n",
        "for a in animals:\n",
        "    a.speak()   # Same method call, different output\n",
        "\n",
        "- Output: Dog barks; Cat meows; Animals make sounds"
      ],
      "metadata": {
        "id": "EbW9vLViizm6"
      }
    },
    {
      "cell_type": "markdown",
      "source": [
        "24. What is method chaining in Python OOP?\n",
        "- Method Chaining: Method chaining means calling multiple methods on the same object in a single line, one after another. Each method returns the object itself (usually self), so the next method can be called on it. Commonly used in libraries like Pandas, SQLAlchemy, or Fluent APIs.\n",
        "- eg: class Student:\n",
        "    def __init__(self, name):\n",
        "        self.name = name\n",
        "        self.marks = 0\n",
        "\n",
        "    def set_marks(self, marks):\n",
        "        self.marks = marks\n",
        "        return self   # Returning self allows chaining\n",
        "\n",
        "    def add_bonus(self, bonus):\n",
        "        self.marks += bonus\n",
        "        return self\n",
        "\n",
        "    def display(self):\n",
        "        print(f\"{self.name} has {self.marks} marks\")\n",
        "        return self\n",
        "\n",
        "s = Student(\"Preet\")\n",
        "s.set_marks(80).add_bonus(5).display()\n",
        "\n",
        "- Output: Preet has 85 marks"
      ],
      "metadata": {
        "id": "uvIhqokGkrue"
      }
    },
    {
      "cell_type": "markdown",
      "source": [
        "25. What is the purpose of the __call__ method in Python?\n",
        "- Purpose of __call__: The __call__ method allows an object of a class to be called like a function. When you write obj(), Python internally executes obj.__call__().\n",
        "This makes your objects behave like functions, giving more flexibility in designing APIs.\n",
        "- eg: class Greeter:\n",
        "    def __init__(self, name):\n",
        "        self.name = name\n",
        "\n",
        "    def __call__(self):\n",
        "        print(f\"Hello, {self.name}!\")\n",
        "\n",
        "g = Greeter(\"Preet\")\n",
        "g()   # Calls g.__call__()"
      ],
      "metadata": {
        "id": "cgLthWfqlg1S"
      }
    },
    {
      "cell_type": "markdown",
      "source": [
        "**Practical Questions**"
      ],
      "metadata": {
        "id": "NjAk2B4Uhi1d"
      }
    },
    {
      "cell_type": "markdown",
      "source": [
        "1. Create a parent class Animal with a method speak() that prints a generic message. Create a child class Dog\n",
        "that overrides the speak() method to print \"Bark!\"."
      ],
      "metadata": {
        "id": "nO8pByJthpls"
      }
    },
    {
      "cell_type": "code",
      "source": [
        "class Animal:\n",
        "  def speak(self):\n",
        "    print(\"Generic animal sound\")\n",
        "\n",
        "class Dog(Animal):\n",
        "  def speak(self):\n",
        "    print(\"Bark!\")\n",
        "\n",
        "dog = Dog()\n",
        "dog.speak()"
      ],
      "metadata": {
        "colab": {
          "base_uri": "https://localhost:8080/"
        },
        "id": "SF1ZM9Qihucc",
        "outputId": "a4b1d34f-6719-43ef-add8-fbbbd95051ac"
      },
      "execution_count": 1,
      "outputs": [
        {
          "output_type": "stream",
          "name": "stdout",
          "text": [
            "Bark!\n"
          ]
        }
      ]
    },
    {
      "cell_type": "markdown",
      "source": [
        "2. Write a program to create an abstract class Shape with a method area(). Derive classes Circle and Rectangle\n",
        "from it and implement the area() method in both."
      ],
      "metadata": {
        "id": "X_-_RIvCiDjO"
      }
    },
    {
      "cell_type": "code",
      "source": [
        "from abc import ABC, abstractmethod\n",
        "import math\n",
        "\n",
        "class Shape(ABC):\n",
        "\n",
        "    @abstractmethod\n",
        "    def area(self):\n",
        "        pass\n",
        "\n",
        "class Circle(Shape):\n",
        "    def __init__(self, radius):\n",
        "        self.radius = radius\n",
        "\n",
        "    def area(self):\n",
        "      area = math.pi * self.radius ** 2\n",
        "      print(f\"Area of circle with radius {self.radius} is {area}\")\n",
        "\n",
        "class Rectangle(Shape):\n",
        "    def __init__(self, length, width):\n",
        "        self.length = length\n",
        "        self.width = width\n",
        "\n",
        "    def area(self):\n",
        "      area = self.length * self.width\n",
        "      print(f\"Area of rectangle with length {self.length} and width {self.width} is {area}\")\n",
        "\n",
        "circle = Circle(10)\n",
        "circle.area()\n",
        "\n",
        "rectangle = Rectangle(10, 12)\n",
        "rectangle.area()\n"
      ],
      "metadata": {
        "colab": {
          "base_uri": "https://localhost:8080/"
        },
        "id": "gWFFilLaiG32",
        "outputId": "755286c8-1703-47dd-b985-b4407088a295"
      },
      "execution_count": 3,
      "outputs": [
        {
          "output_type": "stream",
          "name": "stdout",
          "text": [
            "Area of circle with radius 10 is 314.1592653589793\n",
            "Area of rectangle with length 10 and width 12 is 120\n"
          ]
        }
      ]
    },
    {
      "cell_type": "markdown",
      "source": [
        "3. Implement a multi-level inheritance scenario where a class Vehicle has an attribute type. Derive a class Car\n",
        "and further derive a class ElectricCar that adds a battery attribute."
      ],
      "metadata": {
        "id": "BFH13p0pjgVP"
      }
    },
    {
      "cell_type": "code",
      "source": [
        "class Car:\n",
        "    def __init__(self, type):\n",
        "        self.type = type\n",
        "\n",
        "class ElectricCar(Car):\n",
        "    def __init__(self, type, battery):\n",
        "        super().__init__(type)\n",
        "        self.battery = battery\n",
        "\n",
        "my_ev_car = ElectricCar(\"Electric\", \"50 kWh\")\n",
        "print(my_ev_car.type)\n",
        "print(my_ev_car.battery)"
      ],
      "metadata": {
        "colab": {
          "base_uri": "https://localhost:8080/"
        },
        "id": "fm7p14QbjjD9",
        "outputId": "38e8ddee-6ecc-46d0-d564-e076050d5fe5"
      },
      "execution_count": 5,
      "outputs": [
        {
          "output_type": "stream",
          "name": "stdout",
          "text": [
            "Electric\n",
            "50 kWh\n"
          ]
        }
      ]
    },
    {
      "cell_type": "markdown",
      "source": [
        "4. Demonstrate polymorphism by creating a base class Bird with a method fly(). Create two derived classes\n",
        "Sparrow and Penguin that override the fly() method.\n"
      ],
      "metadata": {
        "id": "TIoDkkK3kK1n"
      }
    },
    {
      "cell_type": "code",
      "source": [
        "class Bird:\n",
        "  def fly(self):\n",
        "    print(\"Birds can fly\")\n",
        "\n",
        "class Sparrow(Bird):\n",
        "  def fly(self):\n",
        "    print(\"Sparrows can fly\")\n",
        "\n",
        "class Penguin(Bird):\n",
        "  def fly(self):\n",
        "    print(\"Penguins cannot fly\")\n",
        "\n",
        "bird = Bird()\n",
        "bird.fly()\n",
        "\n",
        "sparrow = Sparrow()\n",
        "sparrow.fly()\n",
        "\n",
        "penguin = Penguin()\n",
        "penguin.fly()"
      ],
      "metadata": {
        "colab": {
          "base_uri": "https://localhost:8080/"
        },
        "id": "Q46x_zTakQ8N",
        "outputId": "b6ee9227-a99a-4391-bf76-755e25dd23d2"
      },
      "execution_count": 6,
      "outputs": [
        {
          "output_type": "stream",
          "name": "stdout",
          "text": [
            "Birds can fly\n",
            "Sparrows can fly\n",
            "Penguins cannot fly\n"
          ]
        }
      ]
    },
    {
      "cell_type": "markdown",
      "source": [
        "5. Write a program to demonstrate encapsulation by creating a class BankAccount with private attributes\n",
        "balance and methods to deposit, withdraw, and check balance."
      ],
      "metadata": {
        "id": "0JEG1cXzklF-"
      }
    },
    {
      "cell_type": "code",
      "source": [
        "class BankAccount:\n",
        "    def __init__(self, balance):\n",
        "        self.__balance = balance\n",
        "\n",
        "    def deposit(self, amount):\n",
        "        self.__balance += amount\n",
        "\n",
        "    def withdraw(self, amount):\n",
        "        if amount <= self.__balance:\n",
        "            self.__balance -= amount\n",
        "        else:\n",
        "            print(\"Insufficient balance\")\n",
        "\n",
        "    def check_balance(self):\n",
        "      return self.__balance\n",
        "\n",
        "my_account = BankAccount(500)\n",
        "print(my_account.check_balance())\n",
        "\n",
        "my_account.deposit(200)\n",
        "print(my_account.check_balance())\n",
        "\n",
        "my_account.withdraw(200)\n",
        "print(my_account.check_balance())\n",
        "\n",
        "my_account.withdraw(600)"
      ],
      "metadata": {
        "colab": {
          "base_uri": "https://localhost:8080/"
        },
        "id": "-OhLhAk6kmHt",
        "outputId": "0198496d-6715-4325-9502-c8321384cc91"
      },
      "execution_count": 10,
      "outputs": [
        {
          "output_type": "stream",
          "name": "stdout",
          "text": [
            "500\n",
            "700\n",
            "500\n",
            "Insufficient balance\n"
          ]
        }
      ]
    },
    {
      "cell_type": "markdown",
      "source": [
        "6. Demonstrate runtime polymorphism using a method play() in a base class Instrument. Derive classes Guitar\n",
        "and Piano that implement their own version of play()."
      ],
      "metadata": {
        "id": "vQJimLkSlYlu"
      }
    },
    {
      "cell_type": "code",
      "source": [
        "class Instrument:\n",
        "  def play(self):\n",
        "    print(\"Generic instrument sound\")\n",
        "\n",
        "class Guitar(Instrument):\n",
        "  def play(self):\n",
        "    print(\"Guitar sound\")\n",
        "\n",
        "class Piano(Instrument):\n",
        "  def play(self):\n",
        "    print(\"Piano sound\")\n",
        "\n",
        "instrument1 = Instrument()\n",
        "instrument1.play()\n",
        "\n",
        "instrument2 = Guitar()\n",
        "instrument2.play()\n",
        "\n",
        "instrument3 = Piano()\n",
        "instrument3.play()"
      ],
      "metadata": {
        "colab": {
          "base_uri": "https://localhost:8080/"
        },
        "id": "9EqXHETileR-",
        "outputId": "7b3cc523-156f-4e25-b1fa-1ec078ebb614"
      },
      "execution_count": 12,
      "outputs": [
        {
          "output_type": "stream",
          "name": "stdout",
          "text": [
            "Generic instrument sound\n",
            "Guitar sound\n",
            "Piano sound\n"
          ]
        }
      ]
    },
    {
      "cell_type": "markdown",
      "source": [
        "7. Create a class MathOperations with a class method add_numbers() to add two numbers and a static\n",
        "method subtract_numbers() to subtract two numbers."
      ],
      "metadata": {
        "id": "bdlG2R04lzn9"
      }
    },
    {
      "cell_type": "code",
      "source": [
        "class Mathoperations:\n",
        "  def add_numbers(self, a, b):\n",
        "    return a + b\n",
        "\n",
        "  @staticmethod\n",
        "  def subtract_numbers(c, d):\n",
        "    return c - d\n",
        "\n",
        "addition = Mathoperations()\n",
        "print(addition.add_numbers(10, 20))\n",
        "\n",
        "subtraction = Mathoperations()\n",
        "print(subtraction.subtract_numbers(20, 10))\n"
      ],
      "metadata": {
        "colab": {
          "base_uri": "https://localhost:8080/"
        },
        "id": "dVSS4N3Pl5Ie",
        "outputId": "df6cbbfc-2afd-4b63-f043-f7a83a74d764"
      },
      "execution_count": 13,
      "outputs": [
        {
          "output_type": "stream",
          "name": "stdout",
          "text": [
            "30\n",
            "10\n"
          ]
        }
      ]
    },
    {
      "cell_type": "markdown",
      "source": [
        "8. Implement a class Person with a class method to count the total number of persons created."
      ],
      "metadata": {
        "id": "5RbgBd82miQW"
      }
    },
    {
      "cell_type": "code",
      "source": [
        "class Person:\n",
        "  count = 0\n",
        "\n",
        "  def __init__(self, name):\n",
        "    self.name = name\n",
        "    Person.count += 1\n",
        "\n",
        "  @classmethod\n",
        "  def get_count(cls):\n",
        "    return cls.count\n",
        "\n",
        "person1 = Person(\"Preet\")\n",
        "person2 = Person(\"John\")\n",
        "person3 = Person(\"Jane\")\n",
        "print(Person.get_count())\n"
      ],
      "metadata": {
        "colab": {
          "base_uri": "https://localhost:8080/"
        },
        "id": "FfpkOFO9mniG",
        "outputId": "199c0ff0-1f5a-4d5a-a453-e4d17b92e62a"
      },
      "execution_count": 14,
      "outputs": [
        {
          "output_type": "stream",
          "name": "stdout",
          "text": [
            "3\n"
          ]
        }
      ]
    },
    {
      "cell_type": "markdown",
      "source": [
        "9. Write a class Fraction with attributes numerator and denominator. Override the str method to display the\n",
        "fraction as \"numerator/denominator\"."
      ],
      "metadata": {
        "id": "jOs5VlhKnCLw"
      }
    },
    {
      "cell_type": "code",
      "source": [
        "class Fraction:\n",
        "  def __init__(self, numerator, denominator):\n",
        "    self.numerator = numerator\n",
        "    self.denominator = denominator\n",
        "\n",
        "  def __str__(self):\n",
        "    return f\"{self.numerator}/{self.denominator}\"\n",
        "\n",
        "fraction1 = Fraction(1, 2)\n",
        "print(fraction1.numerator/fraction1.denominator)"
      ],
      "metadata": {
        "colab": {
          "base_uri": "https://localhost:8080/"
        },
        "id": "mL6cRtyfnDSm",
        "outputId": "7c52bb02-3f90-43f6-f666-ab8321c16887"
      },
      "execution_count": 15,
      "outputs": [
        {
          "output_type": "stream",
          "name": "stdout",
          "text": [
            "0.5\n"
          ]
        }
      ]
    },
    {
      "cell_type": "markdown",
      "source": [
        "10. Demonstrate operator overloading by creating a class Vector and overriding the add method to add two\n",
        "vectors."
      ],
      "metadata": {
        "id": "5n_2JZffn7Vx"
      }
    },
    {
      "cell_type": "code",
      "source": [
        "class Vector:\n",
        "    def __init__(self, x, y):\n",
        "        self.x = x\n",
        "        self.y = y\n",
        "\n",
        "    def __add__(self, other):\n",
        "        return Vector(self.x + other.x, self.y + other.y)\n",
        "\n",
        "    def __str__(self):\n",
        "        return f\"({self.x}, {self.y})\"\n",
        "\n",
        "v1 = Vector(2, 3)\n",
        "v2 = Vector(4, 5)\n",
        "\n",
        "v3 = v1 + v2\n",
        "\n",
        "print(\"Vector 1:\", v1)\n",
        "print(\"Vector 2:\", v2)\n",
        "print(\"Vector 1 + Vector 2:\", v3)"
      ],
      "metadata": {
        "colab": {
          "base_uri": "https://localhost:8080/"
        },
        "id": "E3NwPpVioRf3",
        "outputId": "fca4912d-689b-4d64-810b-355dd84e7e0b"
      },
      "execution_count": 18,
      "outputs": [
        {
          "output_type": "stream",
          "name": "stdout",
          "text": [
            "Vector 1: (2, 3)\n",
            "Vector 2: (4, 5)\n",
            "Vector 1 + Vector 2: (6, 8)\n"
          ]
        }
      ]
    },
    {
      "cell_type": "markdown",
      "source": [
        "11. Create a class Person with attributes name and age. Add a method greet() that prints \"Hello, my name is\n",
        "{name} and I am {age} years old.\""
      ],
      "metadata": {
        "id": "bYXpc8L4pSfQ"
      }
    },
    {
      "cell_type": "code",
      "source": [
        "class Person:\n",
        "  def __init__(self, name, age):\n",
        "    self.name = name\n",
        "    self.age = age\n",
        "\n",
        "  def greet(self):\n",
        "    print(f\"Hello, my name is {self.name} and I am {self.age} years old.\")\n",
        "\n",
        "person1 = Person(\"Preet\", 22)\n",
        "person1.greet()"
      ],
      "metadata": {
        "colab": {
          "base_uri": "https://localhost:8080/"
        },
        "id": "sMGz6XhspYnn",
        "outputId": "90ea8c7a-f753-4a0b-fb6b-ea4c36bb7abe"
      },
      "execution_count": 20,
      "outputs": [
        {
          "output_type": "stream",
          "name": "stdout",
          "text": [
            "Hello, my name is Preet and I am 22 years old.\n"
          ]
        }
      ]
    },
    {
      "cell_type": "markdown",
      "source": [
        "12. Implement a class Student with attributes name and grades. Create a method average_grade() to compute\n",
        "the average of the grades."
      ],
      "metadata": {
        "id": "gV6VW7XTpovO"
      }
    },
    {
      "cell_type": "code",
      "source": [
        "class Student:\n",
        "  def __init__(self, name, *grades):\n",
        "    self.name = name\n",
        "    self.grades = grades\n",
        "\n",
        "  def average_grade(self):\n",
        "    return sum(self.grades) / len(self.grades)\n",
        "\n",
        "student1 = Student(\"Preet\", 80, 90, 85, 95, 100)\n",
        "print(student1.average_grade())"
      ],
      "metadata": {
        "colab": {
          "base_uri": "https://localhost:8080/"
        },
        "id": "VlaFib9wptmQ",
        "outputId": "97308848-1b7c-442e-fa07-67dfe2fd42dd"
      },
      "execution_count": 23,
      "outputs": [
        {
          "output_type": "stream",
          "name": "stdout",
          "text": [
            "90.0\n"
          ]
        }
      ]
    },
    {
      "cell_type": "markdown",
      "source": [
        "13. Create a class Rectangle with methods set_dimensions() to set the dimensions and area() to calculate the\n",
        "area."
      ],
      "metadata": {
        "id": "-cLwdZ_GqKci"
      }
    },
    {
      "cell_type": "code",
      "source": [
        "class Rectangle:\n",
        "  def set_dimensions(self, length, width):\n",
        "    self.length = length\n",
        "    self.width = width\n",
        "\n",
        "  def area(self):\n",
        "    return self.length * self.width\n",
        "\n",
        "rectangle1 = Rectangle()\n",
        "rectangle1.set_dimensions(10, 20)\n",
        "print(f\"Dimentions of the rectangle are: {rectangle1.length}cm and {rectangle1.width}cm\")\n",
        "print(f\"Area of the rectangle is {rectangle1.area()} cm^2.\")"
      ],
      "metadata": {
        "colab": {
          "base_uri": "https://localhost:8080/"
        },
        "id": "xZyYbAluqLuX",
        "outputId": "cdf5adbf-7da8-4e0a-94ed-9e9f8cc4959b"
      },
      "execution_count": 29,
      "outputs": [
        {
          "output_type": "stream",
          "name": "stdout",
          "text": [
            "Dimentions of the rectangle are: 10cm and 20cm\n",
            "Area of the rectangle is 200 cm^2\n"
          ]
        }
      ]
    },
    {
      "cell_type": "markdown",
      "source": [
        "14. Create a class Employee with a method calculate_salary() that computes the salary based on hours worked\n",
        "and hourly rate. Create a derived class Manager that adds a bonus to the salary."
      ],
      "metadata": {
        "id": "lrR0BDhirQwx"
      }
    },
    {
      "cell_type": "code",
      "source": [
        "class Employee:\n",
        "  def calculate_salary(self, hours_worked, hourly_rate):\n",
        "    return hours_worked * hourly_rate\n",
        "\n",
        "class Manager(Employee):\n",
        "  def calculate_salary(self, hours_worked, hourly_rate):\n",
        "    salary = super().calculate_salary(hours_worked, hourly_rate)\n",
        "    return salary + 1000\n",
        "\n",
        "emp1 = Employee()\n",
        "emp1.calculate_salary(40, 50)\n",
        "\n",
        "manager1 = Manager()\n",
        "manager1.calculate_salary(40, 50)\n"
      ],
      "metadata": {
        "colab": {
          "base_uri": "https://localhost:8080/"
        },
        "id": "RAm-bW3QrSEK",
        "outputId": "42f1aa82-6533-4eb2-c05d-a66b7f328ceb"
      },
      "execution_count": 32,
      "outputs": [
        {
          "output_type": "execute_result",
          "data": {
            "text/plain": [
              "3000"
            ]
          },
          "metadata": {},
          "execution_count": 32
        }
      ]
    },
    {
      "cell_type": "markdown",
      "source": [
        "15. Create a class Product with attributes name, price, and quantity. Implement a method total_price() that\n",
        "calculates the total price of the product."
      ],
      "metadata": {
        "id": "TvmbLb_Mr7wM"
      }
    },
    {
      "cell_type": "code",
      "source": [
        "class Product:\n",
        "  def __init__(self, name, price, quantity):\n",
        "    self.name = name\n",
        "    self.price = price\n",
        "    self.quantity = quantity\n",
        "\n",
        "  def total_price(self):\n",
        "    return self.price * self.quantity\n",
        "\n",
        "product1 = Product(\"Laptop\", 1_00_000, 2)\n",
        "print(f\"Total price of {product1.quantity} {product1.name} is {product1.total_price()}\")"
      ],
      "metadata": {
        "colab": {
          "base_uri": "https://localhost:8080/"
        },
        "id": "3cHnlbxbsAyY",
        "outputId": "e2b6d1ab-e232-409c-d659-8d9957daf872"
      },
      "execution_count": 35,
      "outputs": [
        {
          "output_type": "stream",
          "name": "stdout",
          "text": [
            "Total price of 2 Laptop is 200000\n"
          ]
        }
      ]
    },
    {
      "cell_type": "markdown",
      "source": [
        "16. Create a class Animal with an abstract method sound(). Create two derived classes Cow and Sheep that\n",
        "implement the sound() method."
      ],
      "metadata": {
        "id": "7clKKaMRsdRg"
      }
    },
    {
      "cell_type": "code",
      "source": [
        "from abc import ABC, abstractmethod\n",
        "\n",
        "class Animal(ABC):\n",
        "\n",
        "    @abstractmethod\n",
        "    def sound(self):\n",
        "        pass\n",
        "\n",
        "class Cow(Animal):\n",
        "    def sound(self):\n",
        "        print(\"Moo!\")\n",
        "\n",
        "class Sheep(Animal):\n",
        "    def sound(self):\n",
        "        print(\"Baa!\")\n",
        "\n",
        "cow = Cow()\n",
        "cow.sound()\n",
        "\n",
        "sheep = Sheep()\n",
        "sheep.sound()\n"
      ],
      "metadata": {
        "colab": {
          "base_uri": "https://localhost:8080/"
        },
        "id": "u_d6nf8yskEg",
        "outputId": "00621322-20f5-4358-ac9e-49b510ebaaa5"
      },
      "execution_count": 37,
      "outputs": [
        {
          "output_type": "stream",
          "name": "stdout",
          "text": [
            "Moo!\n",
            "Baa!\n"
          ]
        }
      ]
    },
    {
      "cell_type": "markdown",
      "source": [
        "17. Create a class Book with attributes title, author, and year_published. Add a method get_book_info() that\n",
        "returns a formatted string with the book's details."
      ],
      "metadata": {
        "id": "QDFjjjA7tLzo"
      }
    },
    {
      "cell_type": "code",
      "source": [
        "class Book:\n",
        "  def __init__(self, title, author, year_published):\n",
        "    self.title = title\n",
        "    self.author = author\n",
        "    self.year_published = year_published\n",
        "\n",
        "  def get_book_info(self):\n",
        "    return f\"Title: {self.title}\\nAuthor: {self.author}\\nYear Published: {self.year_published}\"\n",
        "\n",
        "book1 = Book(\"The Alchemist\", \"Paulo Coelho\", 1988)\n",
        "print(book1.get_book_info())"
      ],
      "metadata": {
        "colab": {
          "base_uri": "https://localhost:8080/"
        },
        "id": "mI64v_intPRL",
        "outputId": "2f32cb2d-a3d0-4536-e79c-45f0f96b023d"
      },
      "execution_count": 39,
      "outputs": [
        {
          "output_type": "stream",
          "name": "stdout",
          "text": [
            "Title: The Alchemist\n",
            "Author: Paulo Coelho\n",
            "Year Published: 1988\n"
          ]
        }
      ]
    },
    {
      "cell_type": "markdown",
      "source": [
        "18. Create a class House with attributes address and price. Create a derived class Mansion that adds an\n",
        "attribute number_of_rooms."
      ],
      "metadata": {
        "id": "39s6KAnFwrbX"
      }
    },
    {
      "cell_type": "code",
      "source": [
        "class House:\n",
        "  def __init__(self, address, price):\n",
        "    self.address = address\n",
        "    self.price = price\n",
        "\n",
        "class Mansion(House):\n",
        "  def __init__(self, address, price, number_of_rooms):\n",
        "    super().__init__(address, price)\n",
        "    self.number_of_rooms = number_of_rooms\n",
        "\n",
        "mansion1 = Mansion(\"123 Main St\", 1000000, 10)\n",
        "print(f\"Adress of the mansion is: {mansion1.address}\")\n",
        "print(f\"Price of the mansion is: {mansion1.price}\")\n",
        "print(f\"No of rooms in mansion: {mansion1.number_of_rooms}\")"
      ],
      "metadata": {
        "colab": {
          "base_uri": "https://localhost:8080/"
        },
        "id": "LkWfAYx8ws1x",
        "outputId": "87f0590c-cafa-42cf-80a9-69cb871253b0"
      },
      "execution_count": 41,
      "outputs": [
        {
          "output_type": "stream",
          "name": "stdout",
          "text": [
            "Adress of the mansion is: 123 Main St\n",
            "Price of the mansion is: 1000000\n",
            "No of rooms in mansion: 10\n"
          ]
        }
      ]
    }
  ]
}