{
  "nbformat": 4,
  "nbformat_minor": 0,
  "metadata": {
    "colab": {
      "provenance": []
    },
    "kernelspec": {
      "name": "python3",
      "display_name": "Python 3"
    },
    "language_info": {
      "name": "python"
    }
  },
  "cells": [
    {
      "cell_type": "markdown",
      "source": [
        "**Theory Questions:**"
      ],
      "metadata": {
        "id": "c_59ofxQZ3c_"
      }
    },
    {
      "cell_type": "markdown",
      "source": [
        "1. What is the difference between a function and a method in Python?\n",
        "- In Python, the main difference between a function and a method lies in how they are defined and used within classes or modules:\n",
        "- Function:\n",
        "A function in Python is a block of code that performs a specific task and can be called by its name anywhere in the code.\n",
        "Functions in Python are defined using the def keyword followed by a function name, parentheses (), and optionally parameters inside the parentheses.\n",
        "\n",
        "- Method:\n",
        "A method, on the other hand, is a function that is associated with an object. It is exclusively defined within a class and is intended to operate on instances of that class or the class itself (in the case of class methods).\n",
        "Methods are defined similarly to functions but are accessed via instances (objects) of the class or the class itself."
      ],
      "metadata": {
        "id": "pq-JPumDZ5-m"
      }
    },
    {
      "cell_type": "markdown",
      "source": [
        "2. Explain the concept of function arguments and parameters in Python.\n",
        "-  Parameters (the placeholders):\n",
        "  Definition: Variables listed inside the function definition’s parentheses.\n",
        "  They define what kind of information the function can accept. They’re like empty containers waiting to be filled when the function is called.\n",
        "- Arguments (the actual values)\n",
        "  Definition: The actual values or data you pass into the function when calling it.\n",
        "  They fill the parameters with real data so the function can run.\n"
      ],
      "metadata": {
        "id": "dkhA3uKaeP5z"
      }
    },
    {
      "cell_type": "markdown",
      "source": [
        "3. What are the different ways to define and call a function in Python?\n",
        "- In Python, you can define and call functions in several ways — from the classic def keyword to some more flexible and dynamic approaches.\n",
        "- Using def (Standard Function Definition):\n",
        "def greet(name):\n",
        "    print(f\"Hello, {name}!\")\n",
        "greet(\"Preet\")\n",
        "\n",
        "- Using lambda (Anonymous Functions): Used for short, one-line functions. Has no def or return — everything is in a single expression.\n",
        "square = lambda x: x ** 2\n",
        "print(square(5))   # 25. It is good for quick operations, especially inside map, filter, sorted.\n",
        "\n",
        "- Using *args and **kwargs (Flexible Parameters): Here *args → variable number of positional arguments and **kwargs → variable number of keyword arguments.\n",
        "- def display(*args, **kwargs):\n",
        "    print(\"Args:\", args)\n",
        "    print(\"Kwargs:\", kwargs)\n",
        "display(1, 2, 3, name=\"Preet\", age=25)\n",
        "\n",
        "- Using Default Parameter Values(When we want to avoid to pass every argument)\n",
        "def greet(name=\"Guest\"):\n",
        "    print(f\"Hello, {name}!\")\n",
        "greet()         # Uses default\n",
        "greet(\"Preet\")  # Overrides default"
      ],
      "metadata": {
        "id": "amniBNXpNNRa"
      }
    },
    {
      "cell_type": "markdown",
      "source": [
        "4. What is the purpose of the `return` statement in a Python function?\n",
        "- Purpose of return: Send data back to the caller.\n",
        "- When a function finishes running, return sends a value (or multiple values) back to the place where the function was called. Without return, the function just does its work and gives back None by default.\n",
        "- End the function execution early. As soon as Python hits a return statement, it stops running the function — even if there’s more code afterward.\n",
        "- Returning a Value:\n",
        "def add(a, b):\n",
        "    return a + b  # Sends result back\n",
        "result = add(3, 5)\n",
        "print(result)  # 8\n",
        "Here, return a + b sends 8 back to result.\n",
        "- Function Without return:\n",
        "def add(a, b):\n",
        "    print(a + b)  # Just prints, no value sent back\n",
        "result = add(3, 5)\n",
        "print(result)  # None\n",
        "If there’s no return, Python returns None by default.\n",
        "\n"
      ],
      "metadata": {
        "id": "sMmRZ-ejQUc4"
      }
    },
    {
      "cell_type": "markdown",
      "source": [
        "5. What are iterators in Python and how do they differ from iterables?\n",
        "- Iterable\n",
        "Definition: Any Python object capable of returning its members one at a time.\n",
        "Examples: list, tuple, string, set, dict, file objects.\n",
        "It implements the special method __iter__() which returns an iterator. You can loop over it with for.\n",
        "- Iterator\n",
        "Definition: An object that represents a stream of data — it gives you the next item when you ask for it.\n",
        "It implements: __iter__() → returns the iterator itself. __next__() → returns the next item, or raises StopIteration when there’s nothing left."
      ],
      "metadata": {
        "id": "QwwJWlSwSFaZ"
      }
    },
    {
      "cell_type": "markdown",
      "source": [
        "6. Explain the concept of generators in Python and how they are defined.\n",
        "- A generator is a special type of iterator in Python that lets you produce values one at a time, only when needed. Instead of storing the entire sequence in memory, it generates each value on the fly.\n",
        "Saves memory and is ideal for large datasets or infinite sequences.\n",
        "- A Generator Function Looks like a normal function, but uses the yield keyword instead of return. Every time the function yields a value, it pauses its state and can resume later from where it left off.\n",
        "- A Generator Expression Similar to list comprehensions, but uses parentheses () instead of square brackets []."
      ],
      "metadata": {
        "id": "YqzHzfEaQj4z"
      }
    },
    {
      "cell_type": "markdown",
      "source": [
        "7. What are the advantages of using generators over regular functions?\n",
        "- Generators come with some pretty nice advantages over regular functions  especially when dealing with large data or streaming scenarios.\n",
        "- Memory Efficiency: Regular function returns the entire result at once → all values are stored in memory. Generator produces one value at a time → no need to store everything. Perfect for large datasets or infinite sequences.\n",
        "- Lazy Evaluation: Values are generated only when requested (next() or for loop). Saves processing time if you don’t actually need the whole sequence.\n",
        "- Pipeline Processing: Generators can be chained together to create data pipelines without creating intermediate lists in memory.\n",
        "- Cleaner Code for Iterators: With yield, you don’t have to manage __iter__() and __next__() manually. You write generator functions like normal functions, and Python handles the iterator protocol."
      ],
      "metadata": {
        "id": "gcEoKsItR0rb"
      }
    },
    {
      "cell_type": "markdown",
      "source": [
        "8. What is a lambda function in Python and when is it typically used?\n",
        "- A lambda function in Python is basically a small, anonymous function — meaning: It doesn’t have a name (unless you assign it to a variable). It’s defined in a single line using the lambda keyword. It can take any number of arguments, but only one expression (no multiple statements).\n",
        "- Syntax: lambda arguments: expression\n",
        "- arguments → like parameters in a normal function. expression → evaluated and returned automatically (no return needed).\n",
        "- Lambda functions are typically used for short, throwaway functions, especially when defining a full def function would be overkill."
      ],
      "metadata": {
        "id": "a_CC0zPxTk1S"
      }
    },
    {
      "cell_type": "markdown",
      "source": [
        "9. Explain the purpose and usage of the `map()` function in Python.\n",
        "- The map() function applies a given function to every item in an iterable (like a list, tuple, etc.) and returns a map object (which is an iterator). Instead of writing a loop, map() lets you transform all items in one go.\n",
        "- Syntax: map(function, iterable, ...)\n",
        "- function → the function to apply (can be a normal def function or a lambda). iterable → one or more iterables whose elements are passed to the function. Returns → a map object (iterator), so you often need to wrap it in list() or tuple() to see results.\n"
      ],
      "metadata": {
        "id": "1E_x2ciTUeVr"
      }
    },
    {
      "cell_type": "markdown",
      "source": [
        "10. What is the difference between `map()`, `reduce()`, and `filter()` functions in Python?\n",
        "- map() – Transform Every Element - Purpose: Apply a function to each element of an iterable and return a new iterator of transformed elements.\n",
        "- filter() – Keep Only Certain Elements - Purpose: Apply a function (returns True/False) to each element and keep only those where the result is True.\n",
        "- reduce() – Combine All Elements into One - Purpose: Repeatedly apply a function to the elements of an iterable, reducing it to a single value."
      ],
      "metadata": {
        "id": "bEZ8NRjyVTgi"
      }
    },
    {
      "cell_type": "markdown",
      "source": [
        "11. Using pen & Paper write the internal mechanism for sum operation using  reduce function on this given\n",
        "list:[47,11,42,13];\n",
        "- I have attached the image in doc."
      ],
      "metadata": {
        "id": "CyQs4pEVyrG2"
      }
    },
    {
      "cell_type": "markdown",
      "source": [
        "**Practical Questions:**"
      ],
      "metadata": {
        "id": "qNV-CM_cr_GK"
      }
    },
    {
      "cell_type": "markdown",
      "source": [
        "1. Write a Python function that takes a list of numbers as input and returns the sum of all even numbers in\n",
        "the list."
      ],
      "metadata": {
        "id": "dPQ-LsfysAiU"
      }
    },
    {
      "cell_type": "code",
      "source": [
        "def input_list_of_nums(n):\n",
        "  for i in n:\n",
        "    sum_of_even_nums = 0\n",
        "    if i % 2 == 0:\n",
        "      sum_of_even_nums = sum_of_even_nums + i\n",
        "  return sum_of_even_nums\n",
        "\n",
        "even_nums = input_list_of_nums([1, 2, 3, 4, 5, 6, 7, 8, 9, 10])\n",
        "\n",
        "print(even_nums)\n"
      ],
      "metadata": {
        "colab": {
          "base_uri": "https://localhost:8080/"
        },
        "id": "XhNgKKgnsC4U",
        "outputId": "49644cde-dfba-4ca0-cfa2-5162d3903aa0"
      },
      "execution_count": null,
      "outputs": [
        {
          "output_type": "stream",
          "name": "stdout",
          "text": [
            "10\n"
          ]
        }
      ]
    },
    {
      "cell_type": "markdown",
      "source": [
        "2. Create a Python function that accepts a string and returns the reverse of that string."
      ],
      "metadata": {
        "id": "KSE9YIjSt34u"
      }
    },
    {
      "cell_type": "code",
      "source": [
        "def input_string(n):\n",
        "   return (i for i in n[::-1])\n",
        "\n",
        "reverse_string = list(input_string(\"PRITESH\"))\n",
        "print(reverse_string)\n"
      ],
      "metadata": {
        "colab": {
          "base_uri": "https://localhost:8080/"
        },
        "id": "xVmVPpGBt5Gq",
        "outputId": "216d7390-dc6f-4e0a-cf8b-fd1756e594cd"
      },
      "execution_count": null,
      "outputs": [
        {
          "output_type": "stream",
          "name": "stdout",
          "text": [
            "['H', 'S', 'E', 'T', 'I', 'R', 'P']\n"
          ]
        }
      ]
    },
    {
      "cell_type": "markdown",
      "source": [
        "3. Implement a Python function that takes a list of integers and returns a new list containing the squares of\n",
        "each number."
      ],
      "metadata": {
        "id": "MXCLv9l8u_lK"
      }
    },
    {
      "cell_type": "code",
      "source": [
        "def list_of_int(n):\n",
        "  squares = list(i**2 for i in n)\n",
        "  return squares\n",
        "\n",
        "square_of_nums = list_of_int([1, 2, 3, 4, 5])\n",
        "\n",
        "print(square_of_nums)"
      ],
      "metadata": {
        "colab": {
          "base_uri": "https://localhost:8080/"
        },
        "id": "pH6tafASvAta",
        "outputId": "7a45f18b-af9d-4182-d703-14f85c022dff"
      },
      "execution_count": null,
      "outputs": [
        {
          "output_type": "stream",
          "name": "stdout",
          "text": [
            "[1, 4, 9, 16, 25]\n",
            "<class 'list'>\n"
          ]
        }
      ]
    },
    {
      "cell_type": "markdown",
      "source": [
        "4. Write a Python function that checks if a given number is prime or not from 1 to 200."
      ],
      "metadata": {
        "id": "xV1hnYVWvrhs"
      }
    },
    {
      "cell_type": "code",
      "source": [
        "def range_of_nums(n):\n",
        "  prime_nums = []\n",
        "  for i in range(1, n+1):\n",
        "    if i > 1:\n",
        "      for j in range(2, i):\n",
        "        if i % j == 0:\n",
        "          break\n",
        "      else:\n",
        "        prime_nums.append(i)\n",
        "\n",
        "  return prime_nums\n",
        "\n",
        "prime_nums = range_of_nums(200)\n",
        "print(prime_nums)\n"
      ],
      "metadata": {
        "colab": {
          "base_uri": "https://localhost:8080/"
        },
        "id": "Ab5WkfAHvxVD",
        "outputId": "007d8ce9-908b-47c7-b42f-dec08bf9e514"
      },
      "execution_count": null,
      "outputs": [
        {
          "output_type": "stream",
          "name": "stdout",
          "text": [
            "[2, 3, 5, 7, 11, 13, 17, 19, 23, 29, 31, 37, 41, 43, 47, 53, 59, 61, 67, 71, 73, 79, 83, 89, 97, 101, 103, 107, 109, 113, 127, 131, 137, 139, 149, 151, 157, 163, 167, 173, 179, 181, 191, 193, 197, 199]\n"
          ]
        }
      ]
    },
    {
      "cell_type": "markdown",
      "source": [
        "5. Create an iterator class in Python that generates the Fibonacci sequence up to a specified number of\n",
        "terms.\n",
        "- Class iterator was not taught in the lecture."
      ],
      "metadata": {
        "id": "bpwc_C791QZY"
      }
    },
    {
      "cell_type": "markdown",
      "source": [
        "6. Write a generator function in Python that yields the powers of 2 up to a given exponent."
      ],
      "metadata": {
        "id": "AHnDbxVp266x"
      }
    },
    {
      "cell_type": "code",
      "source": [
        "def power_of_twos(max_exponent):\n",
        "  for i in range(max_exponent + 1):\n",
        "    yield 2 ** i\n",
        "\n",
        "powers_of_two = power_of_twos(5)\n",
        "\n",
        "for power in powers_of_two:\n",
        "  print(power, end = \" \")"
      ],
      "metadata": {
        "colab": {
          "base_uri": "https://localhost:8080/"
        },
        "id": "D04i5gU923-1",
        "outputId": "7e6bb61c-526a-45df-d287-6b5dc7c97c7d"
      },
      "execution_count": null,
      "outputs": [
        {
          "output_type": "stream",
          "name": "stdout",
          "text": [
            "1 2 4 8 16 32 "
          ]
        }
      ]
    },
    {
      "cell_type": "markdown",
      "source": [
        "7. Implement a generator function that reads a file line by line and yields each line as a string."
      ],
      "metadata": {
        "id": "HpPDX7HE6bUA"
      }
    },
    {
      "cell_type": "code",
      "source": [
        "def read_file_lines(filename):\n",
        "    for line in filename:\n",
        "      yield line.strip()  # strip() removes trailing newline\n",
        "\n",
        "# Example usage\n",
        "for line in read_file_lines(\"example.txt\"):\n",
        "    print(line)\n"
      ],
      "metadata": {
        "colab": {
          "base_uri": "https://localhost:8080/"
        },
        "id": "VK_o8ICf5zU4",
        "outputId": "ff4e9de5-fb5f-4eec-912d-6740a16fba28"
      },
      "execution_count": null,
      "outputs": [
        {
          "output_type": "stream",
          "name": "stdout",
          "text": [
            "e\n",
            "x\n",
            "a\n",
            "m\n",
            "p\n",
            "l\n",
            "e\n",
            ".\n",
            "t\n",
            "x\n",
            "t\n"
          ]
        }
      ]
    },
    {
      "cell_type": "markdown",
      "source": [
        "8. Use a lambda function in Python to sort a list of tuples based on the second element of each tuple."
      ],
      "metadata": {
        "id": "LtwtRF2c6fHX"
      }
    },
    {
      "cell_type": "code",
      "source": [
        "list_of_tups = [(1, 2), (3, 1), (2, 4), (4, 3)]\n",
        "\n",
        "sorted_list = sorted(list_of_tups, key = lambda x: x[1])\n",
        "\n",
        "print(sorted_list)"
      ],
      "metadata": {
        "colab": {
          "base_uri": "https://localhost:8080/"
        },
        "id": "5H9IOw_i6jrf",
        "outputId": "49f53e64-34e9-4209-b7d1-34ed04c214ee"
      },
      "execution_count": null,
      "outputs": [
        {
          "output_type": "stream",
          "name": "stdout",
          "text": [
            "[(3, 1), (1, 2), (4, 3), (2, 4)]\n"
          ]
        }
      ]
    },
    {
      "cell_type": "markdown",
      "source": [
        "9. Write a Python program that uses `map()` to convert a list of temperatures from Celsius to Fahrenheit."
      ],
      "metadata": {
        "id": "Ko0iOldY75lY"
      }
    },
    {
      "cell_type": "code",
      "source": [
        "temperatures = [10, 15, 5, 21, 40]\n",
        "\n",
        "temp_in_Fahrenheit = list(map(lambda x: (x*9/5) + 32, temperatures))\n",
        "\n",
        "print(temp_in_Fahrenheit)"
      ],
      "metadata": {
        "colab": {
          "base_uri": "https://localhost:8080/"
        },
        "id": "UgcWNcvQ76ev",
        "outputId": "1c143fa6-f26e-4689-819e-032f794fa51a"
      },
      "execution_count": null,
      "outputs": [
        {
          "output_type": "stream",
          "name": "stdout",
          "text": [
            "[50.0, 59.0, 41.0, 69.8, 104.0]\n"
          ]
        }
      ]
    },
    {
      "cell_type": "markdown",
      "source": [
        "10. Create a Python program that uses `filter()` to remove all the vowels from a given string."
      ],
      "metadata": {
        "id": "dq6oIKz88r_O"
      }
    },
    {
      "cell_type": "code",
      "source": [
        "str1 = \"My name is KhAn\"\n",
        "vowels = [\"a\", \"e\", \"i\", \"o\", 'u']\n",
        "\n",
        "str_without_vowels = list(filter(lambda x: x.lower() not in vowels, str1))\n",
        "\n",
        "print(str_without_vowels)"
      ],
      "metadata": {
        "colab": {
          "base_uri": "https://localhost:8080/"
        },
        "id": "EYB2bhV38zVd",
        "outputId": "922036d0-351f-455d-90fc-db1fb51fc64f"
      },
      "execution_count": null,
      "outputs": [
        {
          "output_type": "stream",
          "name": "stdout",
          "text": [
            "['M', 'y', ' ', 'n', 'm', ' ', 's', ' ', 'K', 'h', 'n']\n"
          ]
        }
      ]
    },
    {
      "cell_type": "markdown",
      "source": [
        "11. Write a Python program using lambda and map."
      ],
      "metadata": {
        "id": "BkJfiz89-YwY"
      }
    },
    {
      "cell_type": "code",
      "source": [
        "orders = [\n",
        "    [34587, \"Learning Python, Mark Lutz\", 4, 40.95],\n",
        "    [98762, \"Programming Python, Mark Lutz\", 5, 56.80],\n",
        "    [77226, \"Head First Python, Paul Barry\", 3, 32.95],\n",
        "    [88112, \"Einführung in Python3, Bernd Klein\", 3, 24.99]\n",
        "]\n",
        "\n",
        "# Calculate total with extra €10 if < 100\n",
        "result = list(map(lambda x: (x[0], x[2] * x[3] if x[2] * x[3] >= 100 else x[2] * x[3] + 10), orders))\n",
        "\n",
        "print(result)\n"
      ],
      "metadata": {
        "id": "sqLtknao_VQM",
        "colab": {
          "base_uri": "https://localhost:8080/"
        },
        "outputId": "fe507a09-24d9-454b-ec51-ce8e289bcfc8"
      },
      "execution_count": 1,
      "outputs": [
        {
          "output_type": "stream",
          "name": "stdout",
          "text": [
            "[(34587, 163.8), (98762, 284.0), (77226, 108.85000000000001), (88112, 84.97)]\n"
          ]
        }
      ]
    }
  ]
}